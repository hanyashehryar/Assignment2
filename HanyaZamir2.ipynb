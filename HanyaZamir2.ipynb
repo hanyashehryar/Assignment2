{
  "metadata": {
    "datalore": {
      "version": 1,
      "computation_mode": "JUPYTER",
      "package_manager": "pip",
      "base_environment": "default",
      "packages": []
    },
    "language_info": {
      "codemirror_mode": {
        "name": "python",
        "version": 3
      },
      "file_extension": ".py",
      "mimetype": "text/x-python",
      "name": "python",
      "nbconvert_exporter": "python",
      "pygments_lexer": "ipython3",
      "version": "3.8"
    },
    "kernelspec": {
      "name": "python",
      "display_name": "Pyolite",
      "language": "python"
    }
  },
  "nbformat_minor": 4,
  "nbformat": 4,
  "cells": [
    {
      "cell_type": "markdown",
      "source": "Assignment 2",
      "metadata": {
        "datalore": {
          "type": "MD",
          "hide_input_from_viewers": false,
          "hide_output_from_viewers": false
        }
      }
    },
    {
      "cell_type": "markdown",
      "source": "Author: Hanya Zamir 900212533",
      "metadata": {
        "datalore": {
          "type": "MD",
          "hide_input_from_viewers": false,
          "hide_output_from_viewers": false
        }
      }
    },
    {
      "cell_type": "markdown",
      "source": "Abstract: These series of codes aim to analyze two datasets. The first illustrates the number of wins and losses for different countries in different types of matches in relation to both their home country and far away, which shows the importance of different variables to a team's performance. The second provides the numbers of covid cases in 202 and 2022 in different countries.",
      "metadata": {
        "datalore": {
          "type": "MD",
          "hide_input_from_viewers": false,
          "hide_output_from_viewers": false
        }
      }
    },
    {
      "cell_type": "code",
      "source": "import pandas as pd",
      "metadata": {
        "datalore": {
          "type": "CODE",
          "hide_input_from_viewers": false,
          "hide_output_from_viewers": false
        }
      },
      "execution_count": 2,
      "outputs": []
    },
    {
      "cell_type": "code",
      "source": "df=pd.read_csv(\"results.csv\")",
      "metadata": {
        "datalore": {
          "type": "CODE",
          "hide_input_from_viewers": false,
          "hide_output_from_viewers": false
        }
      },
      "execution_count": 110,
      "outputs": []
    },
    {
      "cell_type": "code",
      "source": "x=df['home_score']-df['away_score']\nconditions = [\n    (x<0),\n    (x>0),\n    (x==0)\n    ]",
      "metadata": {
        "datalore": {
          "type": "CODE",
          "hide_input_from_viewers": false,
          "hide_output_from_viewers": false
        }
      },
      "execution_count": 111,
      "outputs": []
    },
    {
      "cell_type": "code",
      "source": "values= ['win','lose','draw']",
      "metadata": {
        "datalore": {
          "type": "CODE",
          "hide_input_from_viewers": false,
          "hide_output_from_viewers": false
        }
      },
      "execution_count": 112,
      "outputs": []
    },
    {
      "cell_type": "code",
      "source": "import numpy as np\ndf['result'] = np.select(conditions, values)",
      "metadata": {
        "datalore": {
          "type": "CODE",
          "hide_input_from_viewers": false,
          "hide_output_from_viewers": false
        }
      },
      "execution_count": 113,
      "outputs": []
    },
    {
      "cell_type": "code",
      "source": "x=df['result'].value_counts()",
      "metadata": {
        "datalore": {
          "type": "CODE",
          "hide_input_from_viewers": false,
          "hide_output_from_viewers": false
        }
      },
      "execution_count": 114,
      "outputs": []
    },
    {
      "cell_type": "code",
      "source": "df['country'].unique()",
      "metadata": {
        "datalore": {
          "type": "CODE",
          "hide_input_from_viewers": false,
          "hide_output_from_viewers": false
        }
      },
      "execution_count": 115,
      "outputs": [
        {
          "output_type": "display_data",
          "data": {
            "text/html": []
          },
          "metadata": {}
        }
      ]
    },
    {
      "cell_type": "markdown",
      "source": "Assignment Part I",
      "metadata": {
        "datalore": {
          "type": "MD",
          "hide_input_from_viewers": false,
          "hide_output_from_viewers": false
        }
      }
    },
    {
      "cell_type": "code",
      "source": "dfire=df[df['country']=='Ireland']",
      "metadata": {
        "datalore": {
          "type": "CODE",
          "hide_input_from_viewers": false,
          "hide_output_from_viewers": false
        }
      },
      "execution_count": 113,
      "outputs": []
    },
    {
      "cell_type": "code",
      "source": "conditions = [\n    (dfire['tournament']=='Friendly'),\n    (dfire['tournament']!='Friendly')\n    ]\nvalues=['Friendly','Official']\ndfire['typematch'] = np.select(conditions, values)",
      "metadata": {
        "datalore": {
          "type": "CODE",
          "hide_input_from_viewers": false,
          "hide_output_from_viewers": false
        }
      },
      "execution_count": 114,
      "outputs": [
        {
          "name": "stderr",
          "text": "<ipython-input-114-99571b7b4e2f>:6: SettingWithCopyWarning: \n\nA value is trying to be set on a copy of a slice from a DataFrame.\n\nTry using .loc[row_indexer,col_indexer] = value instead\n\n\n\nSee the caveats in the documentation: https://pandas.pydata.org/pandas-docs/stable/user_guide/indexing.html#returning-a-view-versus-a-copy\n\n  dfire['typematch'] = np.select(conditions, values)\n",
          "output_type": "stream"
        }
      ]
    },
    {
      "cell_type": "code",
      "source": "dfire['typematch'].value_counts()",
      "metadata": {
        "datalore": {
          "type": "CODE",
          "hide_input_from_viewers": false,
          "hide_output_from_viewers": false
        }
      },
      "execution_count": 115,
      "outputs": [
        {
          "output_type": "display_data",
          "data": {
            "text/html": []
          },
          "metadata": {}
        }
      ]
    },
    {
      "cell_type": "code",
      "source": "x=pd.crosstab(dfire['typematch'],dfire['result'],margins=True)\nx",
      "metadata": {
        "datalore": {
          "type": "CODE",
          "hide_input_from_viewers": false,
          "hide_output_from_viewers": false
        }
      },
      "execution_count": 118,
      "outputs": [
        {
          "output_type": "display_data",
          "data": {
            "text/html": [
              "<div>\n",
              "<style scoped>\n",
              "    .dataframe tbody tr th:only-of-type {\n",
              "        vertical-align: middle;\n",
              "    }\n",
              "\n",
              "    .dataframe tbody tr th {\n",
              "        vertical-align: top;\n",
              "    }\n",
              "\n",
              "    .dataframe thead th {\n",
              "        text-align: right;\n",
              "    }\n",
              "</style>\n",
              "<table border=\"1\" class=\"dataframe\">\n",
              "  <thead>\n",
              "    <tr style=\"text-align: right;\">\n",
              "      <th>result</th>\n",
              "      <th>draw</th>\n",
              "      <th>lose</th>\n",
              "      <th>win</th>\n",
              "      <th>All</th>\n",
              "    </tr>\n",
              "    <tr>\n",
              "      <th>typematch</th>\n",
              "      <th></th>\n",
              "      <th></th>\n",
              "      <th></th>\n",
              "      <th></th>\n",
              "    </tr>\n",
              "  </thead>\n",
              "  <tbody>\n",
              "    <tr>\n",
              "      <th>Friendly</th>\n",
              "      <td>1</td>\n",
              "      <td>0</td>\n",
              "      <td>1</td>\n",
              "      <td>2</td>\n",
              "    </tr>\n",
              "    <tr>\n",
              "      <th>Official</th>\n",
              "      <td>10</td>\n",
              "      <td>7</td>\n",
              "      <td>34</td>\n",
              "      <td>51</td>\n",
              "    </tr>\n",
              "    <tr>\n",
              "      <th>All</th>\n",
              "      <td>11</td>\n",
              "      <td>7</td>\n",
              "      <td>35</td>\n",
              "      <td>53</td>\n",
              "    </tr>\n",
              "  </tbody>\n",
              "</table>\n",
              "</div>"
            ]
          },
          "metadata": {}
        }
      ]
    },
    {
      "cell_type": "code",
      "source": "x=np.array(x)\nx",
      "metadata": {
        "datalore": {
          "type": "CODE",
          "hide_input_from_viewers": false,
          "hide_output_from_viewers": false
        }
      },
      "execution_count": 119,
      "outputs": [
        {
          "output_type": "display_data",
          "data": {
            "text/html": []
          },
          "metadata": {}
        }
      ]
    },
    {
      "cell_type": "code",
      "source": "import statsmodels.api as sm\nfrom statsmodels.stats.proportion import proportion_confint\nCI_irewin_friendly=proportion_confint(count=x[0,2],nobs=x[0,3],alpha=(1-.95))\nCI_irewin_friendly",
      "metadata": {
        "datalore": {
          "type": "CODE",
          "hide_input_from_viewers": false,
          "hide_output_from_viewers": false
        }
      },
      "execution_count": 120,
      "outputs": [
        {
          "output_type": "display_data",
          "data": {
            "text/plain": [
              "(0.0, 1.0)"
            ]
          },
          "metadata": {}
        }
      ]
    },
    {
      "cell_type": "code",
      "source": "CI_irewin_official=proportion_confint(count=x[1,2],nobs=x[1,3],alpha=(1-.95))\nCI_irewin_official",
      "metadata": {
        "datalore": {
          "type": "CODE",
          "hide_input_from_viewers": false,
          "hide_output_from_viewers": false
        }
      },
      "execution_count": 121,
      "outputs": [
        {
          "output_type": "display_data",
          "data": {
            "text/plain": [
              "(0.5372897650923262, 0.7960435682410071)"
            ]
          },
          "metadata": {}
        }
      ]
    },
    {
      "cell_type": "code",
      "source": "ci_irewin = {}\nci_irewin['Typematch'] = ['Friendly','Official']\nci_irewin['lb'] = [CI_irewin_friendly[0],CI_irewin_official[0]]\nci_irewin['ub'] = [CI_irewin_friendly[1],CI_irewin_official[1]]\ndf_ci= pd.DataFrame(ci_irewin)\ndf_ci",
      "metadata": {
        "datalore": {
          "type": "CODE",
          "hide_input_from_viewers": false,
          "hide_output_from_viewers": false
        }
      },
      "execution_count": 122,
      "outputs": [
        {
          "output_type": "display_data",
          "data": {
            "text/html": [
              "<div>\n",
              "<style scoped>\n",
              "    .dataframe tbody tr th:only-of-type {\n",
              "        vertical-align: middle;\n",
              "    }\n",
              "\n",
              "    .dataframe tbody tr th {\n",
              "        vertical-align: top;\n",
              "    }\n",
              "\n",
              "    .dataframe thead th {\n",
              "        text-align: right;\n",
              "    }\n",
              "</style>\n",
              "<table border=\"1\" class=\"dataframe\">\n",
              "  <thead>\n",
              "    <tr style=\"text-align: right;\">\n",
              "      <th></th>\n",
              "      <th>Typematch</th>\n",
              "      <th>lb</th>\n",
              "      <th>ub</th>\n",
              "    </tr>\n",
              "  </thead>\n",
              "  <tbody>\n",
              "    <tr>\n",
              "      <th>0</th>\n",
              "      <td>Friendly</td>\n",
              "      <td>0.00000</td>\n",
              "      <td>1.000000</td>\n",
              "    </tr>\n",
              "    <tr>\n",
              "      <th>1</th>\n",
              "      <td>Official</td>\n",
              "      <td>0.53729</td>\n",
              "      <td>0.796044</td>\n",
              "    </tr>\n",
              "  </tbody>\n",
              "</table>\n",
              "</div>"
            ]
          },
          "metadata": {}
        }
      ]
    },
    {
      "cell_type": "code",
      "source": "import matplotlib.pyplot as plt\nfor lb,ub,y in zip(df_ci['lb'],df_ci['ub'],range(len(df_ci))):\n    plt.plot((lb,ub),(y,y),'ro-')\nplt.yticks(range(len(df_ci)),list(df_ci['Typematch']))",
      "metadata": {
        "datalore": {
          "type": "CODE",
          "hide_input_from_viewers": false,
          "hide_output_from_viewers": false
        }
      },
      "execution_count": 123,
      "outputs": [
        {
          "output_type": "display_data",
          "data": {
            "text/plain": [
              "([<matplotlib.axis.YTick at 0x7f8f6c812760>,\n",
              "  <matplotlib.axis.YTick at 0x7f8f6c8d97f0>],\n",
              " [Text(0, 0, 'Friendly'), Text(0, 1, 'Official')])"
            ],
            "image/png": "[encoded data removed]"
          },
          "metadata": {
            "image/png": {}
          }
        }
      ]
    },
    {
      "cell_type": "markdown",
      "source": "Since the margin of error for the friendly matches was very high, we can conclude that Ireland were more succesful during their official matches",
      "metadata": {
        "datalore": {
          "type": "MD",
          "hide_input_from_viewers": false,
          "hide_output_from_viewers": false
        }
      }
    },
    {
      "cell_type": "code",
      "source": "dfire['home']=(dfwal['home_team']=='Ireland')\ndfire['home'].value_counts()",
      "metadata": {
        "datalore": {
          "type": "CODE",
          "hide_input_from_viewers": false,
          "hide_output_from_viewers": false
        }
      },
      "execution_count": 125,
      "outputs": [
        {
          "name": "stderr",
          "text": "<ipython-input-125-8478ae796e89>:1: SettingWithCopyWarning: \n\nA value is trying to be set on a copy of a slice from a DataFrame.\n\nTry using .loc[row_indexer,col_indexer] = value instead\n\n\n\nSee the caveats in the documentation: https://pandas.pydata.org/pandas-docs/stable/user_guide/indexing.html#returning-a-view-versus-a-copy\n\n  dfire['home']=(dfwal['home_team']=='Ireland')\n",
          "output_type": "stream"
        },
        {
          "output_type": "display_data",
          "data": {
            "text/html": []
          },
          "metadata": {}
        }
      ]
    },
    {
      "cell_type": "code",
      "source": "x=pd.crosstab(dfwal['home'],dfwal['result'],margins=True)\nx",
      "metadata": {
        "datalore": {
          "type": "CODE",
          "hide_input_from_viewers": false,
          "hide_output_from_viewers": false
        }
      },
      "execution_count": 126,
      "outputs": [
        {
          "output_type": "display_data",
          "data": {
            "text/html": [
              "<div>\n",
              "<style scoped>\n",
              "    .dataframe tbody tr th:only-of-type {\n",
              "        vertical-align: middle;\n",
              "    }\n",
              "\n",
              "    .dataframe tbody tr th {\n",
              "        vertical-align: top;\n",
              "    }\n",
              "\n",
              "    .dataframe thead th {\n",
              "        text-align: right;\n",
              "    }\n",
              "</style>\n",
              "<table border=\"1\" class=\"dataframe\">\n",
              "  <thead>\n",
              "    <tr style=\"text-align: right;\">\n",
              "      <th>result</th>\n",
              "      <th>draw</th>\n",
              "      <th>lose</th>\n",
              "      <th>win</th>\n",
              "      <th>All</th>\n",
              "    </tr>\n",
              "    <tr>\n",
              "      <th>home</th>\n",
              "      <th></th>\n",
              "      <th></th>\n",
              "      <th></th>\n",
              "      <th></th>\n",
              "    </tr>\n",
              "  </thead>\n",
              "  <tbody>\n",
              "    <tr>\n",
              "      <th>False</th>\n",
              "      <td>0</td>\n",
              "      <td>14</td>\n",
              "      <td>6</td>\n",
              "      <td>20</td>\n",
              "    </tr>\n",
              "    <tr>\n",
              "      <th>True</th>\n",
              "      <td>84</td>\n",
              "      <td>123</td>\n",
              "      <td>112</td>\n",
              "      <td>319</td>\n",
              "    </tr>\n",
              "    <tr>\n",
              "      <th>All</th>\n",
              "      <td>84</td>\n",
              "      <td>137</td>\n",
              "      <td>118</td>\n",
              "      <td>339</td>\n",
              "    </tr>\n",
              "  </tbody>\n",
              "</table>\n",
              "</div>"
            ]
          },
          "metadata": {}
        }
      ]
    },
    {
      "cell_type": "code",
      "source": "x=np.array(x)",
      "metadata": {
        "datalore": {
          "type": "CODE",
          "hide_input_from_viewers": false,
          "hide_output_from_viewers": false
        }
      },
      "execution_count": 127,
      "outputs": []
    },
    {
      "cell_type": "code",
      "source": "CI_irewin_home=proportion_confint(count=x[1,2],nobs=x[1,3],alpha=(1-.95))\nCI_irewin_home",
      "metadata": {
        "datalore": {
          "type": "CODE",
          "hide_input_from_viewers": false,
          "hide_output_from_viewers": false
        }
      },
      "execution_count": 128,
      "outputs": [
        {
          "output_type": "display_data",
          "data": {
            "text/plain": [
              "(0.29871829353558793, 0.40347606383118323)"
            ]
          },
          "metadata": {}
        }
      ]
    },
    {
      "cell_type": "code",
      "source": "CI_irewin_away=proportion_confint(count=x[0,2],nobs=x[0,3],alpha=(1-.95))\nCI_irewin_away",
      "metadata": {
        "datalore": {
          "type": "CODE",
          "hide_input_from_viewers": false,
          "hide_output_from_viewers": false
        }
      },
      "execution_count": 129,
      "outputs": [
        {
          "output_type": "display_data",
          "data": {
            "text/plain": [
              "(0.09916345547364067, 0.5008365445263593)"
            ]
          },
          "metadata": {}
        }
      ]
    },
    {
      "cell_type": "code",
      "source": "ci_irewin = {}\nci_irewin['home'] = ['Yes','No']\nci_irewin['lb'] = [CI_irewin_home[0],CI_irewin_away[0]]\nci_irewin['ub'] = [CI_irewin_home[1],CI_irewin_away[1]]\ndf_ci= pd.DataFrame(ci_irewin)\ndf_ci",
      "metadata": {
        "datalore": {
          "type": "CODE",
          "hide_input_from_viewers": false,
          "hide_output_from_viewers": false
        }
      },
      "execution_count": 130,
      "outputs": [
        {
          "output_type": "display_data",
          "data": {
            "text/html": [
              "<div>\n",
              "<style scoped>\n",
              "    .dataframe tbody tr th:only-of-type {\n",
              "        vertical-align: middle;\n",
              "    }\n",
              "\n",
              "    .dataframe tbody tr th {\n",
              "        vertical-align: top;\n",
              "    }\n",
              "\n",
              "    .dataframe thead th {\n",
              "        text-align: right;\n",
              "    }\n",
              "</style>\n",
              "<table border=\"1\" class=\"dataframe\">\n",
              "  <thead>\n",
              "    <tr style=\"text-align: right;\">\n",
              "      <th></th>\n",
              "      <th>home</th>\n",
              "      <th>lb</th>\n",
              "      <th>ub</th>\n",
              "    </tr>\n",
              "  </thead>\n",
              "  <tbody>\n",
              "    <tr>\n",
              "      <th>0</th>\n",
              "      <td>Yes</td>\n",
              "      <td>0.298718</td>\n",
              "      <td>0.403476</td>\n",
              "    </tr>\n",
              "    <tr>\n",
              "      <th>1</th>\n",
              "      <td>No</td>\n",
              "      <td>0.099163</td>\n",
              "      <td>0.500837</td>\n",
              "    </tr>\n",
              "  </tbody>\n",
              "</table>\n",
              "</div>"
            ]
          },
          "metadata": {}
        }
      ]
    },
    {
      "cell_type": "code",
      "source": "for lb,ub,y in zip(df_ci['lb'],df_ci['ub'],range(len(df_ci))):\n    plt.plot((lb,ub),(y,y),'ro-')\nplt.yticks(range(len(df_ci)),list(df_ci['home']))",
      "metadata": {
        "datalore": {
          "type": "CODE",
          "hide_input_from_viewers": false,
          "hide_output_from_viewers": false
        }
      },
      "execution_count": 33,
      "outputs": [
        {
          "output_type": "display_data",
          "data": {
            "text/plain": [
              "([<matplotlib.axis.YTick at 0x7fabf1fc8370>,\n",
              "  <matplotlib.axis.YTick at 0x7fabf1fe2bb0>],\n",
              " [Text(0, 0, 'Yes'), Text(0, 1, 'No')])"
            ],
            "image/png": "[encoded data removed]"
          },
          "metadata": {
            "image/png": {}
          }
        }
      ]
    },
    {
      "cell_type": "markdown",
      "source": "Ireland were more likely to win when playing in their home country, meaning the crowd cheers affected their performance positively",
      "metadata": {
        "datalore": {
          "type": "MD",
          "hide_input_from_viewers": false,
          "hide_output_from_viewers": false
        }
      }
    },
    {
      "cell_type": "code",
      "source": "import statsmodels.api as sm\nfrom statsmodels.stats.proportion import proportion_confint\nCI_irelose_friendly=proportion_confint(count=x[0,1],nobs=x[0,3],alpha=(1-.95))\nCI_irelose_friendly",
      "metadata": {
        "datalore": {
          "type": "CODE",
          "hide_input_from_viewers": false,
          "hide_output_from_viewers": false
        }
      },
      "execution_count": 180,
      "outputs": [
        {
          "output_type": "display_data",
          "data": {
            "text/plain": [
              "(0.4991634554736406, 0.9008365445263593)"
            ]
          },
          "metadata": {}
        }
      ]
    },
    {
      "cell_type": "code",
      "source": "CI_irelose_official=proportion_confint(count=x[1,1],nobs=x[1,3],alpha=(1-.95))\nCI_irelose_official",
      "metadata": {
        "datalore": {
          "type": "CODE",
          "hide_input_from_viewers": false,
          "hide_output_from_viewers": false
        }
      },
      "execution_count": 179,
      "outputs": [
        {
          "output_type": "display_data",
          "data": {
            "text/plain": [
              "(0.3321674678039326, 0.4389924068042179)"
            ]
          },
          "metadata": {}
        }
      ]
    },
    {
      "cell_type": "code",
      "source": "ci_irelose = {}\nci_irelose['Typematch'] = ['Friendly','Official']\nci_irelose['lb'] = [CI_irelose_friendly[0],CI_irelose_official[0]]\nci_irelose['ub'] = [CI_irelose_friendly[1],CI_irelose_official[1]]\ndf_ci= pd.DataFrame(ci_irelose)\ndf_ci",
      "metadata": {
        "datalore": {
          "type": "CODE",
          "hide_input_from_viewers": false,
          "hide_output_from_viewers": false
        }
      },
      "execution_count": 181,
      "outputs": [
        {
          "output_type": "display_data",
          "data": {
            "text/html": [
              "<div>\n",
              "<style scoped>\n",
              "    .dataframe tbody tr th:only-of-type {\n",
              "        vertical-align: middle;\n",
              "    }\n",
              "\n",
              "    .dataframe tbody tr th {\n",
              "        vertical-align: top;\n",
              "    }\n",
              "\n",
              "    .dataframe thead th {\n",
              "        text-align: right;\n",
              "    }\n",
              "</style>\n",
              "<table border=\"1\" class=\"dataframe\">\n",
              "  <thead>\n",
              "    <tr style=\"text-align: right;\">\n",
              "      <th></th>\n",
              "      <th>Typematch</th>\n",
              "      <th>lb</th>\n",
              "      <th>ub</th>\n",
              "    </tr>\n",
              "  </thead>\n",
              "  <tbody>\n",
              "    <tr>\n",
              "      <th>0</th>\n",
              "      <td>Friendly</td>\n",
              "      <td>0.499163</td>\n",
              "      <td>0.900837</td>\n",
              "    </tr>\n",
              "    <tr>\n",
              "      <th>1</th>\n",
              "      <td>Official</td>\n",
              "      <td>0.332167</td>\n",
              "      <td>0.438992</td>\n",
              "    </tr>\n",
              "  </tbody>\n",
              "</table>\n",
              "</div>"
            ]
          },
          "metadata": {}
        }
      ]
    },
    {
      "cell_type": "code",
      "source": "import matplotlib.pyplot as plt\nfor lb,ub,y in zip(df_ci['lb'],df_ci['ub'],range(len(df_ci))):\n    plt.plot((lb,ub),(y,y),'ro-')\nplt.yticks(range(len(df_ci)),list(df_ci['Typematch']))",
      "metadata": {
        "datalore": {
          "type": "CODE",
          "hide_input_from_viewers": false,
          "hide_output_from_viewers": false
        }
      },
      "execution_count": 182,
      "outputs": [
        {
          "output_type": "display_data",
          "data": {
            "text/plain": [
              "([<matplotlib.axis.YTick at 0x7f8f66717a30>,\n",
              "  <matplotlib.axis.YTick at 0x7f8f667172b0>],\n",
              " [Text(0, 0, 'Friendly'), Text(0, 1, 'Official')])"
            ],
            "image/png": "[encoded data removed]"
          },
          "metadata": {
            "image/png": {}
          }
        }
      ]
    },
    {
      "cell_type": "markdown",
      "source": "Ireland are more likely to lose in friendly matches than official matches",
      "metadata": {
        "datalore": {
          "type": "MD",
          "hide_input_from_viewers": false,
          "hide_output_from_viewers": false
        }
      }
    },
    {
      "cell_type": "code",
      "source": "x=np.array(x)\nCI_irelose_home=proportion_confint(count=x[1,1],nobs=x[1,3],alpha=(1-.95))\nCI_irelose_home\n",
      "metadata": {
        "datalore": {
          "type": "CODE",
          "hide_input_from_viewers": false,
          "hide_output_from_viewers": false
        }
      },
      "execution_count": 183,
      "outputs": [
        {
          "output_type": "display_data",
          "data": {
            "text/plain": [
              "(0.3321674678039326, 0.4389924068042179)"
            ]
          },
          "metadata": {}
        }
      ]
    },
    {
      "cell_type": "code",
      "source": "CI_irelose_away=proportion_confint(count=x[0,1],nobs=x[0,3],alpha=(1-.95))\nCI_irelose_away",
      "metadata": {
        "datalore": {
          "type": "CODE",
          "hide_input_from_viewers": false,
          "hide_output_from_viewers": false
        }
      },
      "execution_count": 184,
      "outputs": [
        {
          "output_type": "display_data",
          "data": {
            "text/plain": [
              "(0.4991634554736406, 0.9008365445263593)"
            ]
          },
          "metadata": {}
        }
      ]
    },
    {
      "cell_type": "code",
      "source": "ci_irelose = {}\nci_irelose['home'] = ['Yes','No']\nci_irelose['lb'] = [CI_irelose_home[0],CI_irelose_away[0]]\nci_irelose['ub'] = [CI_irelose_home[1],CI_irelose_away[1]]\ndf_ci= pd.DataFrame(ci_irelose)\ndf_ci",
      "metadata": {
        "datalore": {
          "type": "CODE",
          "hide_input_from_viewers": false,
          "hide_output_from_viewers": false
        }
      },
      "execution_count": 185,
      "outputs": [
        {
          "output_type": "display_data",
          "data": {
            "text/html": [
              "<div>\n",
              "<style scoped>\n",
              "    .dataframe tbody tr th:only-of-type {\n",
              "        vertical-align: middle;\n",
              "    }\n",
              "\n",
              "    .dataframe tbody tr th {\n",
              "        vertical-align: top;\n",
              "    }\n",
              "\n",
              "    .dataframe thead th {\n",
              "        text-align: right;\n",
              "    }\n",
              "</style>\n",
              "<table border=\"1\" class=\"dataframe\">\n",
              "  <thead>\n",
              "    <tr style=\"text-align: right;\">\n",
              "      <th></th>\n",
              "      <th>home</th>\n",
              "      <th>lb</th>\n",
              "      <th>ub</th>\n",
              "    </tr>\n",
              "  </thead>\n",
              "  <tbody>\n",
              "    <tr>\n",
              "      <th>0</th>\n",
              "      <td>Yes</td>\n",
              "      <td>0.332167</td>\n",
              "      <td>0.438992</td>\n",
              "    </tr>\n",
              "    <tr>\n",
              "      <th>1</th>\n",
              "      <td>No</td>\n",
              "      <td>0.499163</td>\n",
              "      <td>0.900837</td>\n",
              "    </tr>\n",
              "  </tbody>\n",
              "</table>\n",
              "</div>"
            ]
          },
          "metadata": {}
        }
      ]
    },
    {
      "cell_type": "code",
      "source": "for lb,ub,y in zip(df_ci['lb'],df_ci['ub'],range(len(df_ci))):\n    plt.plot((lb,ub),(y,y),'ro-')\nplt.yticks(range(len(df_ci)),list(df_ci['home']))",
      "metadata": {
        "datalore": {
          "type": "CODE",
          "hide_input_from_viewers": false,
          "hide_output_from_viewers": false
        }
      },
      "execution_count": 186,
      "outputs": [
        {
          "output_type": "display_data",
          "data": {
            "text/plain": [
              "([<matplotlib.axis.YTick at 0x7f8f66d5f280>,\n",
              "  <matplotlib.axis.YTick at 0x7f8f66d5e940>],\n",
              " [Text(0, 0, 'Yes'), Text(0, 1, 'No')])"
            ],
            "image/png": "[encoded data removed]"
          },
          "metadata": {
            "image/png": {}
          }
        }
      ]
    },
    {
      "cell_type": "markdown",
      "source": "Ireland are more likely to lose in far away matches, meaning that the lack of crowd cheers affects them negatively ",
      "metadata": {
        "datalore": {
          "type": "MD",
          "hide_input_from_viewers": false,
          "hide_output_from_viewers": false
        }
      }
    },
    {
      "cell_type": "code",
      "source": "dfwal=df[df['country']=='Wales']",
      "metadata": {
        "datalore": {
          "type": "CODE",
          "hide_input_from_viewers": false,
          "hide_output_from_viewers": false
        }
      },
      "execution_count": 8,
      "outputs": []
    },
    {
      "cell_type": "code",
      "source": "conditions = [\n    (dfwal['tournament']=='Friendly'),\n    (dfwal['tournament']!='Friendly')\n    ]",
      "metadata": {
        "datalore": {
          "type": "CODE",
          "hide_input_from_viewers": false,
          "hide_output_from_viewers": false
        }
      },
      "execution_count": 9,
      "outputs": []
    },
    {
      "cell_type": "code",
      "source": "values=['Friendly','Official']",
      "metadata": {
        "datalore": {
          "type": "CODE",
          "hide_input_from_viewers": false,
          "hide_output_from_viewers": false
        }
      },
      "execution_count": 10,
      "outputs": []
    },
    {
      "cell_type": "code",
      "source": "import numpy as np\ndfwal['typematch'] = np.select(conditions, values)",
      "metadata": {
        "datalore": {
          "type": "CODE",
          "hide_input_from_viewers": false,
          "hide_output_from_viewers": false
        }
      },
      "execution_count": 11,
      "outputs": [
        {
          "name": "stderr",
          "text": "<ipython-input-11-0db6f9e305fa>:2: SettingWithCopyWarning: \n\nA value is trying to be set on a copy of a slice from a DataFrame.\n\nTry using .loc[row_indexer,col_indexer] = value instead\n\n\n\nSee the caveats in the documentation: https://pandas.pydata.org/pandas-docs/stable/user_guide/indexing.html#returning-a-view-versus-a-copy\n\n  dfwal['typematch'] = np.select(conditions, values)\n",
          "output_type": "stream"
        }
      ]
    },
    {
      "cell_type": "code",
      "source": "dfwal['typematch'].value_counts()",
      "metadata": {
        "datalore": {
          "type": "CODE",
          "hide_input_from_viewers": false,
          "hide_output_from_viewers": false
        }
      },
      "execution_count": 12,
      "outputs": [
        {
          "output_type": "display_data",
          "data": {
            "text/html": []
          },
          "metadata": {}
        }
      ]
    },
    {
      "cell_type": "code",
      "source": "import pandas as pd\nx=pd.crosstab(dfwal['typematch'],dfwal['result'],margins=True)\nx",
      "metadata": {
        "datalore": {
          "type": "CODE",
          "hide_input_from_viewers": false,
          "hide_output_from_viewers": false
        }
      },
      "execution_count": 13,
      "outputs": [
        {
          "output_type": "display_data",
          "data": {
            "text/html": [
              "<div>\n",
              "<style scoped>\n",
              "    .dataframe tbody tr th:only-of-type {\n",
              "        vertical-align: middle;\n",
              "    }\n",
              "\n",
              "    .dataframe tbody tr th {\n",
              "        vertical-align: top;\n",
              "    }\n",
              "\n",
              "    .dataframe thead th {\n",
              "        text-align: right;\n",
              "    }\n",
              "</style>\n",
              "<table border=\"1\" class=\"dataframe\">\n",
              "  <thead>\n",
              "    <tr style=\"text-align: right;\">\n",
              "      <th>result</th>\n",
              "      <th>draw</th>\n",
              "      <th>lose</th>\n",
              "      <th>win</th>\n",
              "      <th>All</th>\n",
              "    </tr>\n",
              "    <tr>\n",
              "      <th>typematch</th>\n",
              "      <th></th>\n",
              "      <th></th>\n",
              "      <th></th>\n",
              "      <th></th>\n",
              "    </tr>\n",
              "  </thead>\n",
              "  <tbody>\n",
              "    <tr>\n",
              "      <th>Friendly</th>\n",
              "      <td>21</td>\n",
              "      <td>26</td>\n",
              "      <td>24</td>\n",
              "      <td>71</td>\n",
              "    </tr>\n",
              "    <tr>\n",
              "      <th>Official</th>\n",
              "      <td>63</td>\n",
              "      <td>111</td>\n",
              "      <td>94</td>\n",
              "      <td>268</td>\n",
              "    </tr>\n",
              "    <tr>\n",
              "      <th>All</th>\n",
              "      <td>84</td>\n",
              "      <td>137</td>\n",
              "      <td>118</td>\n",
              "      <td>339</td>\n",
              "    </tr>\n",
              "  </tbody>\n",
              "</table>\n",
              "</div>"
            ]
          },
          "metadata": {}
        }
      ]
    },
    {
      "cell_type": "code",
      "source": "x=np.array(x)\nx\n                        ",
      "metadata": {
        "datalore": {
          "type": "CODE",
          "hide_input_from_viewers": false,
          "hide_output_from_viewers": false
        }
      },
      "execution_count": 14,
      "outputs": [
        {
          "output_type": "display_data",
          "data": {
            "text/html": []
          },
          "metadata": {}
        }
      ]
    },
    {
      "cell_type": "code",
      "source": "import statsmodels.api as sm\nfrom statsmodels.stats.proportion import proportion_confint\nCI_walwin_friendly=proportion_confint(count=x[0,2],nobs=x[0,3],alpha=(1-.95))\nCI_walwin_friendly",
      "metadata": {
        "datalore": {
          "type": "CODE",
          "hide_input_from_viewers": false,
          "hide_output_from_viewers": false
        }
      },
      "execution_count": 15,
      "outputs": [
        {
          "output_type": "display_data",
          "data": {
            "text/plain": [
              "(0.2279971543780736, 0.4480591836500954)"
            ]
          },
          "metadata": {}
        }
      ]
    },
    {
      "cell_type": "code",
      "source": "CI_walwin_official=proportion_confint(count=x[1,2],nobs=x[1,3],alpha=(1-.95))\nCI_walwin_official\n\n",
      "metadata": {
        "datalore": {
          "type": "CODE",
          "hide_input_from_viewers": false,
          "hide_output_from_viewers": false
        }
      },
      "execution_count": 16,
      "outputs": [
        {
          "output_type": "display_data",
          "data": {
            "text/plain": [
              "(0.29361360781866724, 0.4078789294947656)"
            ]
          },
          "metadata": {}
        }
      ]
    },
    {
      "cell_type": "code",
      "source": "ci_walwin = {}\nci_walwin['Typematch'] = ['Friendly','Official']\nci_walwin['lb'] = [CI_walwin_friendly[0],CI_walwin_official[0]]\nci_walwin['ub'] = [CI_walwin_friendly[1],CI_walwin_official[1]]\ndf_ci= pd.DataFrame(ci_walwin)\ndf_ci",
      "metadata": {
        "datalore": {
          "type": "CODE",
          "hide_input_from_viewers": false,
          "hide_output_from_viewers": false
        }
      },
      "execution_count": 18,
      "outputs": [
        {
          "output_type": "display_data",
          "data": {
            "text/html": [
              "<div>\n",
              "<style scoped>\n",
              "    .dataframe tbody tr th:only-of-type {\n",
              "        vertical-align: middle;\n",
              "    }\n",
              "\n",
              "    .dataframe tbody tr th {\n",
              "        vertical-align: top;\n",
              "    }\n",
              "\n",
              "    .dataframe thead th {\n",
              "        text-align: right;\n",
              "    }\n",
              "</style>\n",
              "<table border=\"1\" class=\"dataframe\">\n",
              "  <thead>\n",
              "    <tr style=\"text-align: right;\">\n",
              "      <th></th>\n",
              "      <th>Typematch</th>\n",
              "      <th>lb</th>\n",
              "      <th>ub</th>\n",
              "    </tr>\n",
              "  </thead>\n",
              "  <tbody>\n",
              "    <tr>\n",
              "      <th>0</th>\n",
              "      <td>Friendly</td>\n",
              "      <td>0.227997</td>\n",
              "      <td>0.448059</td>\n",
              "    </tr>\n",
              "    <tr>\n",
              "      <th>1</th>\n",
              "      <td>Official</td>\n",
              "      <td>0.293614</td>\n",
              "      <td>0.407879</td>\n",
              "    </tr>\n",
              "  </tbody>\n",
              "</table>\n",
              "</div>"
            ]
          },
          "metadata": {}
        }
      ]
    },
    {
      "cell_type": "code",
      "source": "import matplotlib.pyplot as plt\nfor lb,ub,y in zip(df_ci['lb'],df_ci['ub'],range(len(df_ci))):\n    plt.plot((lb,ub),(y,y),'ro-')\nplt.yticks(range(len(df_ci)),list(df_ci['Typematch']))",
      "metadata": {
        "datalore": {
          "type": "CODE",
          "hide_input_from_viewers": false,
          "hide_output_from_viewers": false
        }
      },
      "execution_count": 19,
      "outputs": [
        {
          "output_type": "display_data",
          "data": {
            "text/plain": [
              "([<matplotlib.axis.YTick at 0x7fabf24d77c0>,\n",
              "  <matplotlib.axis.YTick at 0x7fabf1a23490>],\n",
              " [Text(0, 0, 'Friendly'), Text(0, 1, 'Official')])"
            ],
            "image/png": "[encoded data removed]"
          },
          "metadata": {
            "image/png": {}
          }
        }
      ]
    },
    {
      "cell_type": "markdown",
      "source": "Wales are more likely to win in official matches",
      "metadata": {
        "datalore": {
          "type": "MD",
          "hide_input_from_viewers": false,
          "hide_output_from_viewers": false
        }
      }
    },
    {
      "cell_type": "code",
      "source": "dfwal['home']=(dfwal['home_team']=='Wales')",
      "metadata": {
        "datalore": {
          "type": "CODE",
          "hide_input_from_viewers": false,
          "hide_output_from_viewers": false
        }
      },
      "execution_count": 20,
      "outputs": [
        {
          "name": "stderr",
          "text": "<ipython-input-20-cb7deabfae77>:1: SettingWithCopyWarning: \n\nA value is trying to be set on a copy of a slice from a DataFrame.\n\nTry using .loc[row_indexer,col_indexer] = value instead\n\n\n\nSee the caveats in the documentation: https://pandas.pydata.org/pandas-docs/stable/user_guide/indexing.html#returning-a-view-versus-a-copy\n\n  dfwal['home']=(dfwal['home_team']=='Wales')\n",
          "output_type": "stream"
        }
      ]
    },
    {
      "cell_type": "code",
      "source": "dfwal['home']=(dfwal['home_team']=='Wales')",
      "metadata": {
        "datalore": {
          "type": "CODE",
          "hide_input_from_viewers": false,
          "hide_output_from_viewers": false
        }
      },
      "execution_count": 21,
      "outputs": [
        {
          "name": "stderr",
          "text": "<ipython-input-21-cb7deabfae77>:1: SettingWithCopyWarning: \n\nA value is trying to be set on a copy of a slice from a DataFrame.\n\nTry using .loc[row_indexer,col_indexer] = value instead\n\n\n\nSee the caveats in the documentation: https://pandas.pydata.org/pandas-docs/stable/user_guide/indexing.html#returning-a-view-versus-a-copy\n\n  dfwal['home']=(dfwal['home_team']=='Wales')\n",
          "output_type": "stream"
        }
      ]
    },
    {
      "cell_type": "code",
      "source": "x=pd.crosstab(dfwal['home'],dfwal['result'],margins=True)\nx",
      "metadata": {
        "datalore": {
          "type": "CODE",
          "hide_input_from_viewers": false,
          "hide_output_from_viewers": false
        }
      },
      "execution_count": 22,
      "outputs": [
        {
          "output_type": "display_data",
          "data": {
            "text/html": [
              "<div>\n",
              "<style scoped>\n",
              "    .dataframe tbody tr th:only-of-type {\n",
              "        vertical-align: middle;\n",
              "    }\n",
              "\n",
              "    .dataframe tbody tr th {\n",
              "        vertical-align: top;\n",
              "    }\n",
              "\n",
              "    .dataframe thead th {\n",
              "        text-align: right;\n",
              "    }\n",
              "</style>\n",
              "<table border=\"1\" class=\"dataframe\">\n",
              "  <thead>\n",
              "    <tr style=\"text-align: right;\">\n",
              "      <th>result</th>\n",
              "      <th>draw</th>\n",
              "      <th>lose</th>\n",
              "      <th>win</th>\n",
              "      <th>All</th>\n",
              "    </tr>\n",
              "    <tr>\n",
              "      <th>home</th>\n",
              "      <th></th>\n",
              "      <th></th>\n",
              "      <th></th>\n",
              "      <th></th>\n",
              "    </tr>\n",
              "  </thead>\n",
              "  <tbody>\n",
              "    <tr>\n",
              "      <th>False</th>\n",
              "      <td>0</td>\n",
              "      <td>14</td>\n",
              "      <td>6</td>\n",
              "      <td>20</td>\n",
              "    </tr>\n",
              "    <tr>\n",
              "      <th>True</th>\n",
              "      <td>84</td>\n",
              "      <td>123</td>\n",
              "      <td>112</td>\n",
              "      <td>319</td>\n",
              "    </tr>\n",
              "    <tr>\n",
              "      <th>All</th>\n",
              "      <td>84</td>\n",
              "      <td>137</td>\n",
              "      <td>118</td>\n",
              "      <td>339</td>\n",
              "    </tr>\n",
              "  </tbody>\n",
              "</table>\n",
              "</div>"
            ]
          },
          "metadata": {}
        }
      ]
    },
    {
      "cell_type": "code",
      "source": "x=np.array(x)\nCI_walwin_home=proportion_confint(count=x[1,2],nobs=x[1,3],alpha=(1-.95))\nCI_walwin_home",
      "metadata": {
        "datalore": {
          "type": "CODE",
          "hide_input_from_viewers": false,
          "hide_output_from_viewers": false
        }
      },
      "execution_count": 23,
      "outputs": [
        {
          "output_type": "display_data",
          "data": {
            "text/plain": [
              "(0.29871829353558793, 0.40347606383118323)"
            ]
          },
          "metadata": {}
        }
      ]
    },
    {
      "cell_type": "code",
      "source": "CI_walwin_away=proportion_confint(count=x[0,2],nobs=x[0,3],alpha=(1-.95))\nCI_walwin_away",
      "metadata": {
        "datalore": {
          "type": "CODE",
          "hide_input_from_viewers": false,
          "hide_output_from_viewers": false
        }
      },
      "execution_count": 30,
      "outputs": [
        {
          "output_type": "display_data",
          "data": {
            "text/plain": [
              "(0.09916345547364067, 0.5008365445263593)"
            ]
          },
          "metadata": {}
        }
      ]
    },
    {
      "cell_type": "code",
      "source": "ci_walwin = {}\nci_walwin['home'] = ['Yes','No']\nci_walwin['lb'] = [CI_walwin_home[0],CI_walwin_away[0]]\nci_walwin['ub'] = [CI_walwin_home[1],CI_walwin_away[1]]\ndf_ci= pd.DataFrame(ci_walwin)\ndf_ci",
      "metadata": {
        "datalore": {
          "type": "CODE",
          "hide_input_from_viewers": false,
          "hide_output_from_viewers": false
        }
      },
      "execution_count": 31,
      "outputs": [
        {
          "output_type": "display_data",
          "data": {
            "text/html": [
              "<div>\n",
              "<style scoped>\n",
              "    .dataframe tbody tr th:only-of-type {\n",
              "        vertical-align: middle;\n",
              "    }\n",
              "\n",
              "    .dataframe tbody tr th {\n",
              "        vertical-align: top;\n",
              "    }\n",
              "\n",
              "    .dataframe thead th {\n",
              "        text-align: right;\n",
              "    }\n",
              "</style>\n",
              "<table border=\"1\" class=\"dataframe\">\n",
              "  <thead>\n",
              "    <tr style=\"text-align: right;\">\n",
              "      <th></th>\n",
              "      <th>home</th>\n",
              "      <th>lb</th>\n",
              "      <th>ub</th>\n",
              "    </tr>\n",
              "  </thead>\n",
              "  <tbody>\n",
              "    <tr>\n",
              "      <th>0</th>\n",
              "      <td>Yes</td>\n",
              "      <td>0.298718</td>\n",
              "      <td>0.403476</td>\n",
              "    </tr>\n",
              "    <tr>\n",
              "      <th>1</th>\n",
              "      <td>No</td>\n",
              "      <td>0.099163</td>\n",
              "      <td>0.500837</td>\n",
              "    </tr>\n",
              "  </tbody>\n",
              "</table>\n",
              "</div>"
            ]
          },
          "metadata": {}
        }
      ]
    },
    {
      "cell_type": "code",
      "source": "for lb,ub,y in zip(df_ci['lb'],df_ci['ub'],range(len(df_ci))):\n    plt.plot((lb,ub),(y,y),'ro-')\nplt.yticks(range(len(df_ci)),list(df_ci['home']))",
      "metadata": {
        "datalore": {
          "type": "CODE",
          "hide_input_from_viewers": false,
          "hide_output_from_viewers": false
        }
      },
      "execution_count": 32,
      "outputs": [
        {
          "output_type": "display_data",
          "data": {
            "text/plain": [
              "([<matplotlib.axis.YTick at 0x7fabf1c5d9d0>,\n",
              "  <matplotlib.axis.YTick at 0x7fabf1c5d250>],\n",
              " [Text(0, 0, 'Yes'), Text(0, 1, 'No')])"
            ],
            "image/png": "[encoded data removed]"
          },
          "metadata": {
            "image/png": {}
          }
        }
      ]
    },
    {
      "cell_type": "markdown",
      "source": "Wales are more likely to win in their home country, meaning the crowd cheers affect thier performance positively",
      "metadata": {
        "datalore": {
          "type": "MD",
          "hide_input_from_viewers": false,
          "hide_output_from_viewers": false
        }
      }
    },
    {
      "cell_type": "code",
      "source": "import statsmodels.api as sm\nfrom statsmodels.stats.proportion import proportion_confint\nCI_wallose_friendly=proportion_confint(count=x[0,1],nobs=x[0,3],alpha=(1-.95))\nCI_wallose_friendly\n",
      "metadata": {
        "datalore": {
          "type": "CODE",
          "hide_input_from_viewers": false,
          "hide_output_from_viewers": false
        }
      },
      "execution_count": 29,
      "outputs": [
        {
          "output_type": "display_data",
          "data": {
            "text/plain": [
              "(0.4991634554736406, 0.9008365445263593)"
            ]
          },
          "metadata": {}
        }
      ]
    },
    {
      "cell_type": "code",
      "source": "CI_wallose_official=proportion_confint(count=x[1,1],nobs=x[1,3],alpha=(1-.95))\nCI_wallose_official",
      "metadata": {
        "datalore": {
          "type": "CODE",
          "hide_input_from_viewers": false,
          "hide_output_from_viewers": false
        }
      },
      "execution_count": 34,
      "outputs": [
        {
          "output_type": "display_data",
          "data": {
            "text/plain": [
              "(0.3321674678039326, 0.4389924068042179)"
            ]
          },
          "metadata": {}
        }
      ]
    },
    {
      "cell_type": "code",
      "source": "ci_wallose = {}\nci_wallose['Typematch'] = ['Friendly','Official']\nci_wallose['lb'] = [CI_wallose_friendly[0],CI_wallose_official[0]]\nci_wallose['ub'] = [CI_wallose_friendly[1],CI_wallose_official[1]]\ndf_ci= pd.DataFrame(ci_wallose)\ndf_ci",
      "metadata": {
        "datalore": {
          "type": "CODE",
          "hide_input_from_viewers": false,
          "hide_output_from_viewers": false
        }
      },
      "execution_count": 35,
      "outputs": [
        {
          "output_type": "display_data",
          "data": {
            "text/html": [
              "<div>\n",
              "<style scoped>\n",
              "    .dataframe tbody tr th:only-of-type {\n",
              "        vertical-align: middle;\n",
              "    }\n",
              "\n",
              "    .dataframe tbody tr th {\n",
              "        vertical-align: top;\n",
              "    }\n",
              "\n",
              "    .dataframe thead th {\n",
              "        text-align: right;\n",
              "    }\n",
              "</style>\n",
              "<table border=\"1\" class=\"dataframe\">\n",
              "  <thead>\n",
              "    <tr style=\"text-align: right;\">\n",
              "      <th></th>\n",
              "      <th>Typematch</th>\n",
              "      <th>lb</th>\n",
              "      <th>ub</th>\n",
              "    </tr>\n",
              "  </thead>\n",
              "  <tbody>\n",
              "    <tr>\n",
              "      <th>0</th>\n",
              "      <td>Friendly</td>\n",
              "      <td>0.499163</td>\n",
              "      <td>0.900837</td>\n",
              "    </tr>\n",
              "    <tr>\n",
              "      <th>1</th>\n",
              "      <td>Official</td>\n",
              "      <td>0.332167</td>\n",
              "      <td>0.438992</td>\n",
              "    </tr>\n",
              "  </tbody>\n",
              "</table>\n",
              "</div>"
            ]
          },
          "metadata": {}
        }
      ]
    },
    {
      "cell_type": "code",
      "source": "import matplotlib.pyplot as plt\nfor lb,ub,y in zip(df_ci['lb'],df_ci['ub'],range(len(df_ci))):\n    plt.plot((lb,ub),(y,y),'ro-')\nplt.yticks(range(len(df_ci)),list(df_ci['Typematch']))",
      "metadata": {
        "datalore": {
          "type": "CODE",
          "hide_input_from_viewers": false,
          "hide_output_from_viewers": false
        }
      },
      "execution_count": 36,
      "outputs": [
        {
          "output_type": "display_data",
          "data": {
            "text/plain": [
              "([<matplotlib.axis.YTick at 0x7fabf1507c70>,\n",
              "  <matplotlib.axis.YTick at 0x7fabf15074f0>],\n",
              " [Text(0, 0, 'Friendly'), Text(0, 1, 'Official')])"
            ],
            "image/png": "[encoded data removed]"
          },
          "metadata": {
            "image/png": {}
          }
        }
      ]
    },
    {
      "cell_type": "markdown",
      "source": "Wales are more likely to lose in friendly matches than official matches\n",
      "metadata": {
        "datalore": {
          "type": "MD",
          "hide_input_from_viewers": false,
          "hide_output_from_viewers": false
        }
      }
    },
    {
      "cell_type": "code",
      "source": "x=np.array(x)\nCI_wallose_home=proportion_confint(count=x[1,1],nobs=x[1,3],alpha=(1-.95))\nCI_wallose_home\n",
      "metadata": {
        "datalore": {
          "type": "CODE",
          "hide_input_from_viewers": false,
          "hide_output_from_viewers": false
        }
      },
      "execution_count": 37,
      "outputs": [
        {
          "output_type": "display_data",
          "data": {
            "text/plain": [
              "(0.3321674678039326, 0.4389924068042179)"
            ]
          },
          "metadata": {}
        }
      ]
    },
    {
      "cell_type": "code",
      "source": "CI_wallose_away=proportion_confint(count=x[0,1],nobs=x[0,3],alpha=(1-.95))\nCI_wallose_away",
      "metadata": {
        "datalore": {
          "type": "CODE",
          "hide_input_from_viewers": false,
          "hide_output_from_viewers": false
        }
      },
      "execution_count": 38,
      "outputs": [
        {
          "output_type": "display_data",
          "data": {
            "text/plain": [
              "(0.4991634554736406, 0.9008365445263593)"
            ]
          },
          "metadata": {}
        }
      ]
    },
    {
      "cell_type": "code",
      "source": "ci_wallose = {}\nci_wallose['home'] = ['Yes','No']\nci_wallose['lb'] = [CI_wallose_home[0],CI_wallose_away[0]]\nci_wallose['ub'] = [CI_wallose_home[1],CI_wallose_away[1]]\ndf_ci= pd.DataFrame(ci_wallose)\ndf_ci",
      "metadata": {
        "datalore": {
          "type": "CODE",
          "hide_input_from_viewers": false,
          "hide_output_from_viewers": false
        }
      },
      "execution_count": 39,
      "outputs": [
        {
          "output_type": "display_data",
          "data": {
            "text/html": [
              "<div>\n",
              "<style scoped>\n",
              "    .dataframe tbody tr th:only-of-type {\n",
              "        vertical-align: middle;\n",
              "    }\n",
              "\n",
              "    .dataframe tbody tr th {\n",
              "        vertical-align: top;\n",
              "    }\n",
              "\n",
              "    .dataframe thead th {\n",
              "        text-align: right;\n",
              "    }\n",
              "</style>\n",
              "<table border=\"1\" class=\"dataframe\">\n",
              "  <thead>\n",
              "    <tr style=\"text-align: right;\">\n",
              "      <th></th>\n",
              "      <th>home</th>\n",
              "      <th>lb</th>\n",
              "      <th>ub</th>\n",
              "    </tr>\n",
              "  </thead>\n",
              "  <tbody>\n",
              "    <tr>\n",
              "      <th>0</th>\n",
              "      <td>Yes</td>\n",
              "      <td>0.332167</td>\n",
              "      <td>0.438992</td>\n",
              "    </tr>\n",
              "    <tr>\n",
              "      <th>1</th>\n",
              "      <td>No</td>\n",
              "      <td>0.499163</td>\n",
              "      <td>0.900837</td>\n",
              "    </tr>\n",
              "  </tbody>\n",
              "</table>\n",
              "</div>"
            ]
          },
          "metadata": {}
        }
      ]
    },
    {
      "cell_type": "code",
      "source": "for lb,ub,y in zip(df_ci['lb'],df_ci['ub'],range(len(df_ci))):\n    plt.plot((lb,ub),(y,y),'ro-')\nplt.yticks(range(len(df_ci)),list(df_ci['home']))",
      "metadata": {
        "datalore": {
          "type": "CODE",
          "hide_input_from_viewers": false,
          "hide_output_from_viewers": false
        }
      },
      "execution_count": 40,
      "outputs": [
        {
          "output_type": "display_data",
          "data": {
            "text/plain": [
              "([<matplotlib.axis.YTick at 0x7fabf1e05580>,\n",
              "  <matplotlib.axis.YTick at 0x7fabf1e02dc0>],\n",
              " [Text(0, 0, 'Yes'), Text(0, 1, 'No')])"
            ],
            "image/png": "[encoded data removed]"
          },
          "metadata": {
            "image/png": {}
          }
        }
      ]
    },
    {
      "cell_type": "markdown",
      "source": "Wales are more likely to lose in far away matches, meaning that the lack of crowd cheers affects them negatively ",
      "metadata": {
        "datalore": {
          "type": "MD",
          "hide_input_from_viewers": false,
          "hide_output_from_viewers": false
        }
      }
    },
    {
      "cell_type": "code",
      "source": "dfscot=df[df['country']=='Scotland']",
      "metadata": {
        "datalore": {
          "type": "CODE",
          "hide_input_from_viewers": false,
          "hide_output_from_viewers": false
        }
      },
      "execution_count": 41,
      "outputs": []
    },
    {
      "cell_type": "code",
      "source": "conditions = [\n    (dfscot['tournament']=='Friendly'),\n    (dfscot['tournament']!='Friendly')\n    ]\nvalues=['Friendly','Official']\ndfscot['typematch'] = np.select(conditions, values)\ndfscot['typematch'].value_counts()",
      "metadata": {
        "datalore": {
          "type": "CODE",
          "hide_input_from_viewers": false,
          "hide_output_from_viewers": false
        }
      },
      "execution_count": 42,
      "outputs": [
        {
          "name": "stderr",
          "text": "<ipython-input-42-ba08f057aa84>:6: SettingWithCopyWarning: \n\nA value is trying to be set on a copy of a slice from a DataFrame.\n\nTry using .loc[row_indexer,col_indexer] = value instead\n\n\n\nSee the caveats in the documentation: https://pandas.pydata.org/pandas-docs/stable/user_guide/indexing.html#returning-a-view-versus-a-copy\n\n  dfscot['typematch'] = np.select(conditions, values)\n",
          "output_type": "stream"
        },
        {
          "output_type": "display_data",
          "data": {
            "text/html": []
          },
          "metadata": {}
        }
      ]
    },
    {
      "cell_type": "code",
      "source": "x=pd.crosstab(dfscot['typematch'],dfscot['result'],margins=True)\nx",
      "metadata": {
        "datalore": {
          "type": "CODE",
          "hide_input_from_viewers": false,
          "hide_output_from_viewers": false
        }
      },
      "execution_count": 43,
      "outputs": [
        {
          "output_type": "display_data",
          "data": {
            "text/html": [
              "<div>\n",
              "<style scoped>\n",
              "    .dataframe tbody tr th:only-of-type {\n",
              "        vertical-align: middle;\n",
              "    }\n",
              "\n",
              "    .dataframe tbody tr th {\n",
              "        vertical-align: top;\n",
              "    }\n",
              "\n",
              "    .dataframe thead th {\n",
              "        text-align: right;\n",
              "    }\n",
              "</style>\n",
              "<table border=\"1\" class=\"dataframe\">\n",
              "  <thead>\n",
              "    <tr style=\"text-align: right;\">\n",
              "      <th>result</th>\n",
              "      <th>draw</th>\n",
              "      <th>lose</th>\n",
              "      <th>win</th>\n",
              "      <th>All</th>\n",
              "    </tr>\n",
              "    <tr>\n",
              "      <th>typematch</th>\n",
              "      <th></th>\n",
              "      <th></th>\n",
              "      <th></th>\n",
              "      <th></th>\n",
              "    </tr>\n",
              "  </thead>\n",
              "  <tbody>\n",
              "    <tr>\n",
              "      <th>Friendly</th>\n",
              "      <td>19</td>\n",
              "      <td>54</td>\n",
              "      <td>34</td>\n",
              "      <td>107</td>\n",
              "    </tr>\n",
              "    <tr>\n",
              "      <th>Official</th>\n",
              "      <td>64</td>\n",
              "      <td>177</td>\n",
              "      <td>56</td>\n",
              "      <td>297</td>\n",
              "    </tr>\n",
              "    <tr>\n",
              "      <th>All</th>\n",
              "      <td>83</td>\n",
              "      <td>231</td>\n",
              "      <td>90</td>\n",
              "      <td>404</td>\n",
              "    </tr>\n",
              "  </tbody>\n",
              "</table>\n",
              "</div>"
            ]
          },
          "metadata": {}
        }
      ]
    },
    {
      "cell_type": "code",
      "source": "x=np.array(x)\nCI_scotwin_friendly=proportion_confint(count=x[0,2],nobs=x[0,3],alpha=(1-.95))\nCI_scotwin_friendly",
      "metadata": {
        "datalore": {
          "type": "CODE",
          "hide_input_from_viewers": false,
          "hide_output_from_viewers": false
        }
      },
      "execution_count": 44,
      "outputs": [
        {
          "output_type": "display_data",
          "data": {
            "text/plain": [
              "(0.22953573779233233, 0.4059782808992564)"
            ]
          },
          "metadata": {}
        }
      ]
    },
    {
      "cell_type": "code",
      "source": "CI_scotwin_official=proportion_confint(count=x[1,2],nobs=x[1,3],alpha=(1-.95))\nCI_scotwin_official",
      "metadata": {
        "datalore": {
          "type": "CODE",
          "hide_input_from_viewers": false,
          "hide_output_from_viewers": false
        }
      },
      "execution_count": 45,
      "outputs": [
        {
          "output_type": "display_data",
          "data": {
            "text/plain": [
              "(0.1440669471299619, 0.2330374299744152)"
            ]
          },
          "metadata": {}
        }
      ]
    },
    {
      "cell_type": "code",
      "source": "ci_scotwin = {}\nci_scotwin['Typematch'] = ['Friendly','Official']\nci_scotwin['lb'] = [CI_scotwin_friendly[0],CI_scotwin_official[0]]\nci_scotwin['ub'] = [CI_scotwin_friendly[1],CI_scotwin_official[1]]\ndf_ci= pd.DataFrame(ci_scotwin)\ndf_ci",
      "metadata": {
        "datalore": {
          "type": "CODE",
          "hide_input_from_viewers": false,
          "hide_output_from_viewers": false
        }
      },
      "execution_count": 46,
      "outputs": [
        {
          "output_type": "display_data",
          "data": {
            "text/html": [
              "<div>\n",
              "<style scoped>\n",
              "    .dataframe tbody tr th:only-of-type {\n",
              "        vertical-align: middle;\n",
              "    }\n",
              "\n",
              "    .dataframe tbody tr th {\n",
              "        vertical-align: top;\n",
              "    }\n",
              "\n",
              "    .dataframe thead th {\n",
              "        text-align: right;\n",
              "    }\n",
              "</style>\n",
              "<table border=\"1\" class=\"dataframe\">\n",
              "  <thead>\n",
              "    <tr style=\"text-align: right;\">\n",
              "      <th></th>\n",
              "      <th>Typematch</th>\n",
              "      <th>lb</th>\n",
              "      <th>ub</th>\n",
              "    </tr>\n",
              "  </thead>\n",
              "  <tbody>\n",
              "    <tr>\n",
              "      <th>0</th>\n",
              "      <td>Friendly</td>\n",
              "      <td>0.229536</td>\n",
              "      <td>0.405978</td>\n",
              "    </tr>\n",
              "    <tr>\n",
              "      <th>1</th>\n",
              "      <td>Official</td>\n",
              "      <td>0.144067</td>\n",
              "      <td>0.233037</td>\n",
              "    </tr>\n",
              "  </tbody>\n",
              "</table>\n",
              "</div>"
            ]
          },
          "metadata": {}
        }
      ]
    },
    {
      "cell_type": "code",
      "source": "import matplotlib.pyplot as plt\nfor lb,ub,y in zip(df_ci['lb'],df_ci['ub'],range(len(df_ci))):\n    plt.plot((lb,ub),(y,y),'ro-')\nplt.yticks(range(len(df_ci)),list(df_ci['Typematch']))",
      "metadata": {
        "datalore": {
          "type": "CODE",
          "hide_input_from_viewers": false,
          "hide_output_from_viewers": false
        }
      },
      "execution_count": 42,
      "outputs": [
        {
          "output_type": "display_data",
          "data": {
            "text/plain": [
              "([<matplotlib.axis.YTick at 0x7f8f6cc928e0>,\n",
              "  <matplotlib.axis.YTick at 0x7f8f6cc49970>],\n",
              " [Text(0, 0, 'Friendly'), Text(0, 1, 'Official')])"
            ],
            "image/png": "[encoded data removed]"
          },
          "metadata": {
            "image/png": {}
          }
        }
      ]
    },
    {
      "cell_type": "markdown",
      "source": "Scotland are more likely to win friendly matches than in official matches",
      "metadata": {
        "datalore": {
          "type": "MD",
          "hide_input_from_viewers": false,
          "hide_output_from_viewers": false
        }
      }
    },
    {
      "cell_type": "code",
      "source": "dfscot['home']=(dfscot['home_team']=='Scotland')",
      "metadata": {
        "datalore": {
          "type": "CODE",
          "hide_input_from_viewers": false,
          "hide_output_from_viewers": false
        }
      },
      "execution_count": 48,
      "outputs": [
        {
          "name": "stderr",
          "text": "<ipython-input-48-28ef77a131ab>:1: SettingWithCopyWarning: \n\nA value is trying to be set on a copy of a slice from a DataFrame.\n\nTry using .loc[row_indexer,col_indexer] = value instead\n\n\n\nSee the caveats in the documentation: https://pandas.pydata.org/pandas-docs/stable/user_guide/indexing.html#returning-a-view-versus-a-copy\n\n  dfscot['home']=(dfscot['home_team']=='Scotland')\n",
          "output_type": "stream"
        }
      ]
    },
    {
      "cell_type": "code",
      "source": "dfscot['home'].value_counts()",
      "metadata": {
        "datalore": {
          "type": "CODE",
          "hide_input_from_viewers": false,
          "hide_output_from_viewers": false
        }
      },
      "execution_count": 49,
      "outputs": [
        {
          "output_type": "display_data",
          "data": {
            "text/html": []
          },
          "metadata": {}
        }
      ]
    },
    {
      "cell_type": "code",
      "source": "x=pd.crosstab(dfscot['home'],dfscot['result'],margins=True)\nx",
      "metadata": {
        "datalore": {
          "type": "CODE",
          "hide_input_from_viewers": false,
          "hide_output_from_viewers": false
        }
      },
      "execution_count": 50,
      "outputs": [
        {
          "output_type": "display_data",
          "data": {
            "text/html": [
              "<div>\n",
              "<style scoped>\n",
              "    .dataframe tbody tr th:only-of-type {\n",
              "        vertical-align: middle;\n",
              "    }\n",
              "\n",
              "    .dataframe tbody tr th {\n",
              "        vertical-align: top;\n",
              "    }\n",
              "\n",
              "    .dataframe thead th {\n",
              "        text-align: right;\n",
              "    }\n",
              "</style>\n",
              "<table border=\"1\" class=\"dataframe\">\n",
              "  <thead>\n",
              "    <tr style=\"text-align: right;\">\n",
              "      <th>result</th>\n",
              "      <th>draw</th>\n",
              "      <th>lose</th>\n",
              "      <th>win</th>\n",
              "      <th>All</th>\n",
              "    </tr>\n",
              "    <tr>\n",
              "      <th>home</th>\n",
              "      <th></th>\n",
              "      <th></th>\n",
              "      <th></th>\n",
              "      <th></th>\n",
              "    </tr>\n",
              "  </thead>\n",
              "  <tbody>\n",
              "    <tr>\n",
              "      <th>False</th>\n",
              "      <td>6</td>\n",
              "      <td>14</td>\n",
              "      <td>8</td>\n",
              "      <td>28</td>\n",
              "    </tr>\n",
              "    <tr>\n",
              "      <th>True</th>\n",
              "      <td>77</td>\n",
              "      <td>217</td>\n",
              "      <td>82</td>\n",
              "      <td>376</td>\n",
              "    </tr>\n",
              "    <tr>\n",
              "      <th>All</th>\n",
              "      <td>83</td>\n",
              "      <td>231</td>\n",
              "      <td>90</td>\n",
              "      <td>404</td>\n",
              "    </tr>\n",
              "  </tbody>\n",
              "</table>\n",
              "</div>"
            ]
          },
          "metadata": {}
        }
      ]
    },
    {
      "cell_type": "code",
      "source": "x=np.array(x)\nCI_scotwin_home=proportion_confint(count=x[1,2],nobs=x[1,3],alpha=(1-.95))\nCI_scotwin_home",
      "metadata": {
        "datalore": {
          "type": "CODE",
          "hide_input_from_viewers": false,
          "hide_output_from_viewers": false
        }
      },
      "execution_count": 51,
      "outputs": [
        {
          "output_type": "display_data",
          "data": {
            "text/plain": [
              "(0.17634563783879345, 0.25982457492716404)"
            ]
          },
          "metadata": {}
        }
      ]
    },
    {
      "cell_type": "code",
      "source": "CI_scotwin_away=proportion_confint(count=x[0,2],nobs=x[0,3],alpha=(1-.95))\nCI_scotwin_away",
      "metadata": {
        "datalore": {
          "type": "CODE",
          "hide_input_from_viewers": false,
          "hide_output_from_viewers": false
        }
      },
      "execution_count": 52,
      "outputs": [
        {
          "output_type": "display_data",
          "data": {
            "text/plain": [
              "(0.11838535517233528, 0.4530432162562361)"
            ]
          },
          "metadata": {}
        }
      ]
    },
    {
      "cell_type": "code",
      "source": "ci_scotwin = {}\nci_scotwin['home'] = ['Yes','No']\nci_scotwin['lb'] = [CI_scotwin_home[0],CI_scotwin_away[0]]\nci_scotwin['ub'] = [CI_scotwin_home[1],CI_scotwin_away[1]]\ndf_ci= pd.DataFrame(ci_scotwin)\ndf_ci",
      "metadata": {
        "datalore": {
          "type": "CODE",
          "hide_input_from_viewers": false,
          "hide_output_from_viewers": false
        }
      },
      "execution_count": 53,
      "outputs": [
        {
          "output_type": "display_data",
          "data": {
            "text/html": [
              "<div>\n",
              "<style scoped>\n",
              "    .dataframe tbody tr th:only-of-type {\n",
              "        vertical-align: middle;\n",
              "    }\n",
              "\n",
              "    .dataframe tbody tr th {\n",
              "        vertical-align: top;\n",
              "    }\n",
              "\n",
              "    .dataframe thead th {\n",
              "        text-align: right;\n",
              "    }\n",
              "</style>\n",
              "<table border=\"1\" class=\"dataframe\">\n",
              "  <thead>\n",
              "    <tr style=\"text-align: right;\">\n",
              "      <th></th>\n",
              "      <th>home</th>\n",
              "      <th>lb</th>\n",
              "      <th>ub</th>\n",
              "    </tr>\n",
              "  </thead>\n",
              "  <tbody>\n",
              "    <tr>\n",
              "      <th>0</th>\n",
              "      <td>Yes</td>\n",
              "      <td>0.176346</td>\n",
              "      <td>0.259825</td>\n",
              "    </tr>\n",
              "    <tr>\n",
              "      <th>1</th>\n",
              "      <td>No</td>\n",
              "      <td>0.118385</td>\n",
              "      <td>0.453043</td>\n",
              "    </tr>\n",
              "  </tbody>\n",
              "</table>\n",
              "</div>"
            ]
          },
          "metadata": {}
        }
      ]
    },
    {
      "cell_type": "code",
      "source": "for lb,ub,y in zip(df_ci['lb'],df_ci['ub'],range(len(df_ci))):\n    plt.plot((lb,ub),(y,y),'ro-')\nplt.yticks(range(len(df_ci)),list(df_ci['home']))",
      "metadata": {
        "datalore": {
          "type": "CODE",
          "hide_input_from_viewers": false,
          "hide_output_from_viewers": false
        }
      },
      "execution_count": 54,
      "outputs": [
        {
          "output_type": "display_data",
          "data": {
            "text/plain": [
              "([<matplotlib.axis.YTick at 0x7fabf14f26a0>,\n",
              "  <matplotlib.axis.YTick at 0x7fabf14deee0>],\n",
              " [Text(0, 0, 'Yes'), Text(0, 1, 'No')])"
            ],
            "image/png": "[encoded data removed]"
          },
          "metadata": {
            "image/png": {}
          }
        }
      ]
    },
    {
      "cell_type": "markdown",
      "source": "Scotland are more likely to win in home matches, meaning that the lack of crowd cheers affects them negatively ",
      "metadata": {
        "datalore": {
          "type": "MD",
          "hide_input_from_viewers": false,
          "hide_output_from_viewers": false
        }
      }
    },
    {
      "cell_type": "code",
      "source": "import statsmodels.api as sm\nfrom statsmodels.stats.proportion import proportion_confint\nCI_scotlose_friendly=proportion_confint(count=x[0,1],nobs=x[0,3],alpha=(1-.95))\nCI_scotlose_friendly\n",
      "metadata": {
        "datalore": {
          "type": "CODE",
          "hide_input_from_viewers": false,
          "hide_output_from_viewers": false
        }
      },
      "execution_count": 55,
      "outputs": [
        {
          "output_type": "display_data",
          "data": {
            "text/plain": [
              "(0.31480081136656335, 0.6851991886334367)"
            ]
          },
          "metadata": {}
        }
      ]
    },
    {
      "cell_type": "code",
      "source": "CI_scotlose_official=proportion_confint(count=x[1,1],nobs=x[1,3],alpha=(1-.95))\nCI_scotlose_official",
      "metadata": {
        "datalore": {
          "type": "CODE",
          "hide_input_from_viewers": false,
          "hide_output_from_viewers": false
        }
      },
      "execution_count": 56,
      "outputs": [
        {
          "output_type": "display_data",
          "data": {
            "text/plain": [
              "(0.5271938440225415, 0.6270614751263947)"
            ]
          },
          "metadata": {}
        }
      ]
    },
    {
      "cell_type": "code",
      "source": "ci_scotlose = {}\nci_scotlose['Typematch'] = ['Friendly','Official']\nci_scotlose['lb'] = [CI_scotlose_friendly[0],CI_scotlose_official[0]]\nci_scotlose['ub'] = [CI_scotlose_friendly[1],CI_scotlose_official[1]]\ndf_ci= pd.DataFrame(ci_scotlose)\ndf_ci",
      "metadata": {
        "datalore": {
          "type": "CODE",
          "hide_input_from_viewers": false,
          "hide_output_from_viewers": false
        }
      },
      "execution_count": 57,
      "outputs": [
        {
          "output_type": "display_data",
          "data": {
            "text/html": [
              "<div>\n",
              "<style scoped>\n",
              "    .dataframe tbody tr th:only-of-type {\n",
              "        vertical-align: middle;\n",
              "    }\n",
              "\n",
              "    .dataframe tbody tr th {\n",
              "        vertical-align: top;\n",
              "    }\n",
              "\n",
              "    .dataframe thead th {\n",
              "        text-align: right;\n",
              "    }\n",
              "</style>\n",
              "<table border=\"1\" class=\"dataframe\">\n",
              "  <thead>\n",
              "    <tr style=\"text-align: right;\">\n",
              "      <th></th>\n",
              "      <th>Typematch</th>\n",
              "      <th>lb</th>\n",
              "      <th>ub</th>\n",
              "    </tr>\n",
              "  </thead>\n",
              "  <tbody>\n",
              "    <tr>\n",
              "      <th>0</th>\n",
              "      <td>Friendly</td>\n",
              "      <td>0.314801</td>\n",
              "      <td>0.685199</td>\n",
              "    </tr>\n",
              "    <tr>\n",
              "      <th>1</th>\n",
              "      <td>Official</td>\n",
              "      <td>0.527194</td>\n",
              "      <td>0.627061</td>\n",
              "    </tr>\n",
              "  </tbody>\n",
              "</table>\n",
              "</div>"
            ]
          },
          "metadata": {}
        }
      ]
    },
    {
      "cell_type": "code",
      "source": "import matplotlib.pyplot as plt\nfor lb,ub,y in zip(df_ci['lb'],df_ci['ub'],range(len(df_ci))):\n    plt.plot((lb,ub),(y,y),'ro-')\nplt.yticks(range(len(df_ci)),list(df_ci['Typematch']))",
      "metadata": {
        "datalore": {
          "type": "CODE",
          "hide_input_from_viewers": false,
          "hide_output_from_viewers": false
        }
      },
      "execution_count": 58,
      "outputs": [
        {
          "output_type": "display_data",
          "data": {
            "text/plain": [
              "([<matplotlib.axis.YTick at 0x7fabf1a280d0>,\n",
              "  <matplotlib.axis.YTick at 0x7fabf1a28b80>],\n",
              " [Text(0, 0, 'Friendly'), Text(0, 1, 'Official')])"
            ],
            "image/png": "[encoded data removed]"
          },
          "metadata": {
            "image/png": {}
          }
        }
      ]
    },
    {
      "cell_type": "markdown",
      "source": "Scotland are more likely to lose in official matches than friendly matches",
      "metadata": {
        "datalore": {
          "type": "MD",
          "hide_input_from_viewers": false,
          "hide_output_from_viewers": false
        }
      }
    },
    {
      "cell_type": "code",
      "source": "x=np.array(x)\nCI_scotlose_home=proportion_confint(count=x[1,1],nobs=x[1,3],alpha=(1-.95))\nCI_scotlose_home",
      "metadata": {
        "datalore": {
          "type": "CODE",
          "hide_input_from_viewers": false,
          "hide_output_from_viewers": false
        }
      },
      "execution_count": 59,
      "outputs": [
        {
          "output_type": "display_data",
          "data": {
            "text/plain": [
              "(0.5271938440225415, 0.6270614751263947)"
            ]
          },
          "metadata": {}
        }
      ]
    },
    {
      "cell_type": "code",
      "source": "CI_scotlose_away=proportion_confint(count=x[0,1],nobs=x[0,3],alpha=(1-.95))\nCI_scotlose_away",
      "metadata": {
        "datalore": {
          "type": "CODE",
          "hide_input_from_viewers": false,
          "hide_output_from_viewers": false
        }
      },
      "execution_count": 60,
      "outputs": [
        {
          "output_type": "display_data",
          "data": {
            "text/plain": [
              "(0.31480081136656335, 0.6851991886334367)"
            ]
          },
          "metadata": {}
        }
      ]
    },
    {
      "cell_type": "code",
      "source": "ci_iscotlose = {}\nci_scotlose['home'] = ['Yes','No']\nci_scotlose['lb'] = [CI_scotlose_home[0],CI_scotlose_away[0]]\nci_scotlose['ub'] = [CI_scotlose_home[1],CI_scotlose_away[1]]\ndf_ci= pd.DataFrame(ci_scotlose)\ndf_ci",
      "metadata": {
        "datalore": {
          "type": "CODE",
          "hide_input_from_viewers": false,
          "hide_output_from_viewers": false
        }
      },
      "execution_count": 61,
      "outputs": [
        {
          "output_type": "display_data",
          "data": {
            "text/html": [
              "<div>\n",
              "<style scoped>\n",
              "    .dataframe tbody tr th:only-of-type {\n",
              "        vertical-align: middle;\n",
              "    }\n",
              "\n",
              "    .dataframe tbody tr th {\n",
              "        vertical-align: top;\n",
              "    }\n",
              "\n",
              "    .dataframe thead th {\n",
              "        text-align: right;\n",
              "    }\n",
              "</style>\n",
              "<table border=\"1\" class=\"dataframe\">\n",
              "  <thead>\n",
              "    <tr style=\"text-align: right;\">\n",
              "      <th></th>\n",
              "      <th>Typematch</th>\n",
              "      <th>lb</th>\n",
              "      <th>ub</th>\n",
              "      <th>home</th>\n",
              "    </tr>\n",
              "  </thead>\n",
              "  <tbody>\n",
              "    <tr>\n",
              "      <th>0</th>\n",
              "      <td>Friendly</td>\n",
              "      <td>0.527194</td>\n",
              "      <td>0.627061</td>\n",
              "      <td>Yes</td>\n",
              "    </tr>\n",
              "    <tr>\n",
              "      <th>1</th>\n",
              "      <td>Official</td>\n",
              "      <td>0.314801</td>\n",
              "      <td>0.685199</td>\n",
              "      <td>No</td>\n",
              "    </tr>\n",
              "  </tbody>\n",
              "</table>\n",
              "</div>"
            ]
          },
          "metadata": {}
        }
      ]
    },
    {
      "cell_type": "code",
      "source": "for lb,ub,y in zip(df_ci['lb'],df_ci['ub'],range(len(df_ci))):\n    plt.plot((lb,ub),(y,y),'ro-')\nplt.yticks(range(len(df_ci)),list(df_ci['home']))",
      "metadata": {
        "datalore": {
          "type": "CODE",
          "hide_input_from_viewers": false,
          "hide_output_from_viewers": false
        }
      },
      "execution_count": 62,
      "outputs": [
        {
          "output_type": "display_data",
          "data": {
            "text/plain": [
              "([<matplotlib.axis.YTick at 0x7fabf1a0e160>,\n",
              "  <matplotlib.axis.YTick at 0x7fabf1a062e0>],\n",
              " [Text(0, 0, 'Yes'), Text(0, 1, 'No')])"
            ],
            "image/png": "[encoded data removed]"
          },
          "metadata": {
            "image/png": {}
          }
        }
      ]
    },
    {
      "cell_type": "markdown",
      "source": "Scotland are more likely to lose in home matches, meaning that the lack of crowd cheers does not affect them negatively",
      "metadata": {
        "datalore": {
          "type": "MD",
          "hide_input_from_viewers": false,
          "hide_output_from_viewers": false
        }
      }
    },
    {
      "cell_type": "code",
      "source": "dfeng=df[df['country']=='England']\nconditions = [\n    (dfeng['tournament']=='Friendly'),\n    (dfeng['tournament']!='Friendly')\n    ]\nvalues=['Friendly','Official']\ndfeng['typematch'] = np.select(conditions, values)\ndfeng['typematch'].value_counts()",
      "metadata": {
        "datalore": {
          "type": "CODE",
          "hide_input_from_viewers": false,
          "hide_output_from_viewers": false
        }
      },
      "execution_count": 93,
      "outputs": [
        {
          "name": "stderr",
          "text": "<ipython-input-93-0b30e2c63d65>:7: SettingWithCopyWarning: \n\nA value is trying to be set on a copy of a slice from a DataFrame.\n\nTry using .loc[row_indexer,col_indexer] = value instead\n\n\n\nSee the caveats in the documentation: https://pandas.pydata.org/pandas-docs/stable/user_guide/indexing.html#returning-a-view-versus-a-copy\n\n  dfeng['typematch'] = np.select(conditions, values)\n",
          "output_type": "stream"
        },
        {
          "output_type": "display_data",
          "data": {
            "text/html": []
          },
          "metadata": {}
        }
      ]
    },
    {
      "cell_type": "code",
      "source": "x=pd.crosstab(dfeng['typematch'],dfeng['result'],margins=True)\nx",
      "metadata": {
        "datalore": {
          "type": "CODE",
          "hide_input_from_viewers": false,
          "hide_output_from_viewers": false
        }
      },
      "execution_count": 95,
      "outputs": [
        {
          "output_type": "display_data",
          "data": {
            "text/html": [
              "<div>\n",
              "<style scoped>\n",
              "    .dataframe tbody tr th:only-of-type {\n",
              "        vertical-align: middle;\n",
              "    }\n",
              "\n",
              "    .dataframe tbody tr th {\n",
              "        vertical-align: top;\n",
              "    }\n",
              "\n",
              "    .dataframe thead th {\n",
              "        text-align: right;\n",
              "    }\n",
              "</style>\n",
              "<table border=\"1\" class=\"dataframe\">\n",
              "  <thead>\n",
              "    <tr style=\"text-align: right;\">\n",
              "      <th>result</th>\n",
              "      <th>draw</th>\n",
              "      <th>lose</th>\n",
              "      <th>win</th>\n",
              "      <th>All</th>\n",
              "    </tr>\n",
              "    <tr>\n",
              "      <th>typematch</th>\n",
              "      <th></th>\n",
              "      <th></th>\n",
              "      <th></th>\n",
              "      <th></th>\n",
              "    </tr>\n",
              "  </thead>\n",
              "  <tbody>\n",
              "    <tr>\n",
              "      <th>Friendly</th>\n",
              "      <td>72</td>\n",
              "      <td>156</td>\n",
              "      <td>58</td>\n",
              "      <td>286</td>\n",
              "    </tr>\n",
              "    <tr>\n",
              "      <th>Official</th>\n",
              "      <td>84</td>\n",
              "      <td>259</td>\n",
              "      <td>88</td>\n",
              "      <td>431</td>\n",
              "    </tr>\n",
              "    <tr>\n",
              "      <th>All</th>\n",
              "      <td>156</td>\n",
              "      <td>415</td>\n",
              "      <td>146</td>\n",
              "      <td>717</td>\n",
              "    </tr>\n",
              "  </tbody>\n",
              "</table>\n",
              "</div>"
            ]
          },
          "metadata": {}
        }
      ]
    },
    {
      "cell_type": "code",
      "source": "x=np.array(x)\nCI_engwin_friendly=proportion_confint(count=x[0,2],nobs=x[0,3],alpha=(1-.95))\nCI_engwin_friendly",
      "metadata": {
        "datalore": {
          "type": "CODE",
          "hide_input_from_viewers": false,
          "hide_output_from_viewers": false
        }
      },
      "execution_count": 96,
      "outputs": [
        {
          "output_type": "display_data",
          "data": {
            "text/plain": [
              "(0.15619778812633506, 0.24939661746807051)"
            ]
          },
          "metadata": {}
        }
      ]
    },
    {
      "cell_type": "code",
      "source": "CI_engwin_official=proportion_confint(count=x[1,2],nobs=x[1,3],alpha=(1-.95))\nCI_engwin_official",
      "metadata": {
        "datalore": {
          "type": "CODE",
          "hide_input_from_viewers": false,
          "hide_output_from_viewers": false
        }
      },
      "execution_count": 79,
      "outputs": [
        {
          "output_type": "display_data",
          "data": {
            "text/plain": [
              "(0.1661205581281346, 0.24223211008532247)"
            ]
          },
          "metadata": {}
        }
      ]
    },
    {
      "cell_type": "code",
      "source": "ci_engwin = {}\nci_engwin['Typematch'] = ['Friendly','Official']\nci_engwin['lb'] = [CI_engwin_friendly[0],CI_engwin_official[0]]\nci_engwin['ub'] = [CI_engwin_friendly[1],CI_engwin_official[1]]\ndf_ci= pd.DataFrame(ci_engwin)\ndf_ci",
      "metadata": {
        "datalore": {
          "type": "CODE",
          "hide_input_from_viewers": false,
          "hide_output_from_viewers": false
        }
      },
      "execution_count": 80,
      "outputs": [
        {
          "output_type": "display_data",
          "data": {
            "text/html": [
              "<div>\n",
              "<style scoped>\n",
              "    .dataframe tbody tr th:only-of-type {\n",
              "        vertical-align: middle;\n",
              "    }\n",
              "\n",
              "    .dataframe tbody tr th {\n",
              "        vertical-align: top;\n",
              "    }\n",
              "\n",
              "    .dataframe thead th {\n",
              "        text-align: right;\n",
              "    }\n",
              "</style>\n",
              "<table border=\"1\" class=\"dataframe\">\n",
              "  <thead>\n",
              "    <tr style=\"text-align: right;\">\n",
              "      <th></th>\n",
              "      <th>Typematch</th>\n",
              "      <th>lb</th>\n",
              "      <th>ub</th>\n",
              "    </tr>\n",
              "  </thead>\n",
              "  <tbody>\n",
              "    <tr>\n",
              "      <th>0</th>\n",
              "      <td>Friendly</td>\n",
              "      <td>0.156198</td>\n",
              "      <td>0.249397</td>\n",
              "    </tr>\n",
              "    <tr>\n",
              "      <th>1</th>\n",
              "      <td>Official</td>\n",
              "      <td>0.166121</td>\n",
              "      <td>0.242232</td>\n",
              "    </tr>\n",
              "  </tbody>\n",
              "</table>\n",
              "</div>"
            ]
          },
          "metadata": {}
        }
      ]
    },
    {
      "cell_type": "code",
      "source": "import matplotlib.pyplot as plt\nfor lb,ub,y in zip(df_ci['lb'],df_ci['ub'],range(len(df_ci))):\n    plt.plot((lb,ub),(y,y),'ro-')\nplt.yticks(range(len(df_ci)),list(df_ci['Typematch']))",
      "metadata": {
        "datalore": {
          "type": "CODE",
          "hide_input_from_viewers": false,
          "hide_output_from_viewers": false
        }
      },
      "execution_count": 81,
      "outputs": [
        {
          "output_type": "display_data",
          "data": {
            "text/plain": [
              "([<matplotlib.axis.YTick at 0x7fabf1d3d730>,\n",
              "  <matplotlib.axis.YTick at 0x7fabf1d70f70>],\n",
              " [Text(0, 0, 'Friendly'), Text(0, 1, 'Official')])"
            ],
            "image/png": "[encoded data removed]"
          },
          "metadata": {
            "image/png": {}
          }
        }
      ]
    },
    {
      "cell_type": "markdown",
      "source": "Both intervals are similar which means that the location does not affect England's performance",
      "metadata": {
        "datalore": {
          "type": "MD",
          "hide_input_from_viewers": false,
          "hide_output_from_viewers": false
        }
      }
    },
    {
      "cell_type": "code",
      "source": "dfeng['home']=(dfeng['home_team']=='England')",
      "metadata": {
        "datalore": {
          "type": "CODE",
          "hide_input_from_viewers": false,
          "hide_output_from_viewers": false
        }
      },
      "execution_count": 82,
      "outputs": [
        {
          "name": "stderr",
          "text": "<ipython-input-82-ec6d22fd1ab4>:1: SettingWithCopyWarning: \n\nA value is trying to be set on a copy of a slice from a DataFrame.\n\nTry using .loc[row_indexer,col_indexer] = value instead\n\n\n\nSee the caveats in the documentation: https://pandas.pydata.org/pandas-docs/stable/user_guide/indexing.html#returning-a-view-versus-a-copy\n\n  dfeng['home']=(dfeng['home_team']=='England')\n",
          "output_type": "stream"
        }
      ]
    },
    {
      "cell_type": "code",
      "source": "dfeng['home'].value_counts()",
      "metadata": {
        "datalore": {
          "type": "CODE",
          "hide_input_from_viewers": false,
          "hide_output_from_viewers": false
        }
      },
      "execution_count": 83,
      "outputs": [
        {
          "output_type": "display_data",
          "data": {
            "text/html": []
          },
          "metadata": {}
        }
      ]
    },
    {
      "cell_type": "code",
      "source": "x=pd.crosstab(dfeng['home'],dfeng['result'],margins=True)\nx",
      "metadata": {
        "datalore": {
          "type": "CODE",
          "hide_input_from_viewers": false,
          "hide_output_from_viewers": false
        }
      },
      "execution_count": 84,
      "outputs": [
        {
          "output_type": "display_data",
          "data": {
            "text/html": [
              "<div>\n",
              "<style scoped>\n",
              "    .dataframe tbody tr th:only-of-type {\n",
              "        vertical-align: middle;\n",
              "    }\n",
              "\n",
              "    .dataframe tbody tr th {\n",
              "        vertical-align: top;\n",
              "    }\n",
              "\n",
              "    .dataframe thead th {\n",
              "        text-align: right;\n",
              "    }\n",
              "</style>\n",
              "<table border=\"1\" class=\"dataframe\">\n",
              "  <thead>\n",
              "    <tr style=\"text-align: right;\">\n",
              "      <th>result</th>\n",
              "      <th>draw</th>\n",
              "      <th>lose</th>\n",
              "      <th>win</th>\n",
              "      <th>All</th>\n",
              "    </tr>\n",
              "    <tr>\n",
              "      <th>home</th>\n",
              "      <th></th>\n",
              "      <th></th>\n",
              "      <th></th>\n",
              "      <th></th>\n",
              "    </tr>\n",
              "  </thead>\n",
              "  <tbody>\n",
              "    <tr>\n",
              "      <th>False</th>\n",
              "      <td>55</td>\n",
              "      <td>115</td>\n",
              "      <td>83</td>\n",
              "      <td>253</td>\n",
              "    </tr>\n",
              "    <tr>\n",
              "      <th>True</th>\n",
              "      <td>101</td>\n",
              "      <td>300</td>\n",
              "      <td>63</td>\n",
              "      <td>464</td>\n",
              "    </tr>\n",
              "    <tr>\n",
              "      <th>All</th>\n",
              "      <td>156</td>\n",
              "      <td>415</td>\n",
              "      <td>146</td>\n",
              "      <td>717</td>\n",
              "    </tr>\n",
              "  </tbody>\n",
              "</table>\n",
              "</div>"
            ]
          },
          "metadata": {}
        }
      ]
    },
    {
      "cell_type": "code",
      "source": "x=np.array(x)\nCI_engwin_home=proportion_confint(count=x[1,2],nobs=x[1,3],alpha=(1-.95))\nCI_engwin_home",
      "metadata": {
        "datalore": {
          "type": "CODE",
          "hide_input_from_viewers": false,
          "hide_output_from_viewers": false
        }
      },
      "execution_count": 85,
      "outputs": [
        {
          "output_type": "display_data",
          "data": {
            "text/plain": [
              "(0.10460752863595074, 0.1669441955019803)"
            ]
          },
          "metadata": {}
        }
      ]
    },
    {
      "cell_type": "code",
      "source": "CI_engwin_away=proportion_confint(count=x[0,2],nobs=x[0,3],alpha=(1-.95))\nCI_engwin_away",
      "metadata": {
        "datalore": {
          "type": "CODE",
          "hide_input_from_viewers": false,
          "hide_output_from_viewers": false
        }
      },
      "execution_count": 71,
      "outputs": [
        {
          "output_type": "display_data",
          "data": {
            "text/plain": [
              "(0.27020958414722984, 0.3859168980662089)"
            ]
          },
          "metadata": {}
        }
      ]
    },
    {
      "cell_type": "code",
      "source": "ci_engwin = {}\nci_engwin['home'] = ['Yes','No']\nci_engwin['lb'] = [CI_engwin_home[0],CI_engwin_away[0]]\nci_engwin['ub'] = [CI_engwin_home[1],CI_engwin_away[1]]\ndf_ci= pd.DataFrame(ci_engwin)\ndf_ci",
      "metadata": {
        "datalore": {
          "type": "CODE",
          "hide_input_from_viewers": false,
          "hide_output_from_viewers": false
        }
      },
      "execution_count": 72,
      "outputs": [
        {
          "output_type": "display_data",
          "data": {
            "text/html": [
              "<div>\n",
              "<style scoped>\n",
              "    .dataframe tbody tr th:only-of-type {\n",
              "        vertical-align: middle;\n",
              "    }\n",
              "\n",
              "    .dataframe tbody tr th {\n",
              "        vertical-align: top;\n",
              "    }\n",
              "\n",
              "    .dataframe thead th {\n",
              "        text-align: right;\n",
              "    }\n",
              "</style>\n",
              "<table border=\"1\" class=\"dataframe\">\n",
              "  <thead>\n",
              "    <tr style=\"text-align: right;\">\n",
              "      <th></th>\n",
              "      <th>home</th>\n",
              "      <th>lb</th>\n",
              "      <th>ub</th>\n",
              "    </tr>\n",
              "  </thead>\n",
              "  <tbody>\n",
              "    <tr>\n",
              "      <th>0</th>\n",
              "      <td>Yes</td>\n",
              "      <td>0.104608</td>\n",
              "      <td>0.166944</td>\n",
              "    </tr>\n",
              "    <tr>\n",
              "      <th>1</th>\n",
              "      <td>No</td>\n",
              "      <td>0.270210</td>\n",
              "      <td>0.385917</td>\n",
              "    </tr>\n",
              "  </tbody>\n",
              "</table>\n",
              "</div>"
            ]
          },
          "metadata": {}
        }
      ]
    },
    {
      "cell_type": "code",
      "source": "for lb,ub,y in zip(df_ci['lb'],df_ci['ub'],range(len(df_ci))):\n    plt.plot((lb,ub),(y,y),'ro-')\nplt.yticks(range(len(df_ci)),list(df_ci['home']))",
      "metadata": {
        "datalore": {
          "type": "CODE",
          "hide_input_from_viewers": false,
          "hide_output_from_viewers": false
        }
      },
      "execution_count": 73,
      "outputs": [
        {
          "output_type": "display_data",
          "data": {
            "text/plain": [
              "([<matplotlib.axis.YTick at 0x7f8f6cbf7e80>,\n",
              "  <matplotlib.axis.YTick at 0x7f8f6c949910>],\n",
              " [Text(0, 0, 'Yes'), Text(0, 1, 'No')])"
            ],
            "image/png": "[encoded data removed]"
          },
          "metadata": {
            "image/png": {}
          }
        }
      ]
    },
    {
      "cell_type": "markdown",
      "source": "England is more likely to win in far away countries, which means crowd cheers do not affect them negatively",
      "metadata": {
        "datalore": {
          "type": "MD",
          "hide_input_from_viewers": false,
          "hide_output_from_viewers": false
        }
      }
    },
    {
      "cell_type": "code",
      "source": "import statsmodels.api as sm\nfrom statsmodels.stats.proportion import proportion_confint\nCI_englose_friendly=proportion_confint(count=x[0,2],nobs=x[0,3],alpha=(1-.95))\nCI_englose_friendly",
      "metadata": {
        "datalore": {
          "type": "CODE",
          "hide_input_from_viewers": false,
          "hide_output_from_viewers": false
        }
      },
      "execution_count": 86,
      "outputs": [
        {
          "output_type": "display_data",
          "data": {
            "text/plain": [
              "(0.27020958414722984, 0.3859168980662089)"
            ]
          },
          "metadata": {}
        }
      ]
    },
    {
      "cell_type": "code",
      "source": "CI_englose_official=proportion_confint(count=x[1,2],nobs=x[1,3],alpha=(1-.95))\nCI_englose_official",
      "metadata": {
        "datalore": {
          "type": "CODE",
          "hide_input_from_viewers": false,
          "hide_output_from_viewers": false
        }
      },
      "execution_count": 87,
      "outputs": [
        {
          "output_type": "display_data",
          "data": {
            "text/plain": [
              "(0.10460752863595074, 0.1669441955019803)"
            ]
          },
          "metadata": {}
        }
      ]
    },
    {
      "cell_type": "code",
      "source": "ci_englose = {}\nci_englose['Typematch'] = ['Friendly','Official']\nci_englose['lb'] = [CI_englose_friendly[0],CI_englose_official[0]]\nci_englose['ub'] = [CI_englose_friendly[1],CI_englose_official[1]]\ndf_ci= pd.DataFrame(ci_englose)\ndf_ci",
      "metadata": {
        "datalore": {
          "type": "CODE",
          "hide_input_from_viewers": false,
          "hide_output_from_viewers": false
        }
      },
      "execution_count": 97,
      "outputs": [
        {
          "output_type": "display_data",
          "data": {
            "text/html": [
              "<div>\n",
              "<style scoped>\n",
              "    .dataframe tbody tr th:only-of-type {\n",
              "        vertical-align: middle;\n",
              "    }\n",
              "\n",
              "    .dataframe tbody tr th {\n",
              "        vertical-align: top;\n",
              "    }\n",
              "\n",
              "    .dataframe thead th {\n",
              "        text-align: right;\n",
              "    }\n",
              "</style>\n",
              "<table border=\"1\" class=\"dataframe\">\n",
              "  <thead>\n",
              "    <tr style=\"text-align: right;\">\n",
              "      <th></th>\n",
              "      <th>Typematch</th>\n",
              "      <th>lb</th>\n",
              "      <th>ub</th>\n",
              "    </tr>\n",
              "  </thead>\n",
              "  <tbody>\n",
              "    <tr>\n",
              "      <th>0</th>\n",
              "      <td>Friendly</td>\n",
              "      <td>0.270210</td>\n",
              "      <td>0.385917</td>\n",
              "    </tr>\n",
              "    <tr>\n",
              "      <th>1</th>\n",
              "      <td>Official</td>\n",
              "      <td>0.104608</td>\n",
              "      <td>0.166944</td>\n",
              "    </tr>\n",
              "  </tbody>\n",
              "</table>\n",
              "</div>"
            ]
          },
          "metadata": {}
        }
      ]
    },
    {
      "cell_type": "code",
      "source": "import matplotlib.pyplot as plt\nfor lb,ub,y in zip(df_ci['lb'],df_ci['ub'],range(len(df_ci))):\n    plt.plot((lb,ub),(y,y),'ro-')\nplt.yticks(range(len(df_ci)),list(df_ci['Typematch']))",
      "metadata": {
        "datalore": {
          "type": "CODE",
          "hide_input_from_viewers": false,
          "hide_output_from_viewers": false
        }
      },
      "execution_count": 98,
      "outputs": [
        {
          "output_type": "display_data",
          "data": {
            "text/plain": [
              "([<matplotlib.axis.YTick at 0x7fabf1437280>,\n",
              "  <matplotlib.axis.YTick at 0x7fabf1452ac0>],\n",
              " [Text(0, 0, 'Friendly'), Text(0, 1, 'Official')])"
            ],
            "image/png": "[encoded data removed]"
          },
          "metadata": {
            "image/png": {}
          }
        }
      ]
    },
    {
      "cell_type": "markdown",
      "source": "England are more likely to lose in friendly matches than official matches\n",
      "metadata": {
        "datalore": {
          "type": "MD",
          "hide_input_from_viewers": false,
          "hide_output_from_viewers": false
        }
      }
    },
    {
      "cell_type": "code",
      "source": "x=np.array(x)\nCI_englose_home=proportion_confint(count=x[1,1],nobs=x[1,3],alpha=(1-.95))\nCI_englose_home",
      "metadata": {
        "datalore": {
          "type": "CODE",
          "hide_input_from_viewers": false,
          "hide_output_from_viewers": false
        }
      },
      "execution_count": 99,
      "outputs": [
        {
          "output_type": "display_data",
          "data": {
            "text/plain": [
              "(0.5546956899682828, 0.6471604585235965)"
            ]
          },
          "metadata": {}
        }
      ]
    },
    {
      "cell_type": "code",
      "source": "CI_englose_away=proportion_confint(count=x[0,1],nobs=x[0,3],alpha=(1-.95))\nCI_englose_away",
      "metadata": {
        "datalore": {
          "type": "CODE",
          "hide_input_from_viewers": false,
          "hide_output_from_viewers": false
        }
      },
      "execution_count": 105,
      "outputs": [
        {
          "output_type": "display_data",
          "data": {
            "text/plain": [
              "(0.48774694494485304, 0.6031621459642378)"
            ]
          },
          "metadata": {}
        }
      ]
    },
    {
      "cell_type": "code",
      "source": "ci_englose = {}\nci_englose['home'] = ['Yes','No']\nci_englose['lb'] = [CI_englose_home[0],CI_englose_away[0]]\nci_englose['ub'] = [CI_englose_home[1],CI_englose_away[1]]\ndf_ci= pd.DataFrame(ci_englose)\ndf_ci",
      "metadata": {
        "datalore": {
          "type": "CODE",
          "hide_input_from_viewers": false,
          "hide_output_from_viewers": false
        }
      },
      "execution_count": 107,
      "outputs": [
        {
          "output_type": "display_data",
          "data": {
            "text/html": [
              "<div>\n",
              "<style scoped>\n",
              "    .dataframe tbody tr th:only-of-type {\n",
              "        vertical-align: middle;\n",
              "    }\n",
              "\n",
              "    .dataframe tbody tr th {\n",
              "        vertical-align: top;\n",
              "    }\n",
              "\n",
              "    .dataframe thead th {\n",
              "        text-align: right;\n",
              "    }\n",
              "</style>\n",
              "<table border=\"1\" class=\"dataframe\">\n",
              "  <thead>\n",
              "    <tr style=\"text-align: right;\">\n",
              "      <th></th>\n",
              "      <th>home</th>\n",
              "      <th>lb</th>\n",
              "      <th>ub</th>\n",
              "    </tr>\n",
              "  </thead>\n",
              "  <tbody>\n",
              "    <tr>\n",
              "      <th>0</th>\n",
              "      <td>Yes</td>\n",
              "      <td>0.554696</td>\n",
              "      <td>0.647160</td>\n",
              "    </tr>\n",
              "    <tr>\n",
              "      <th>1</th>\n",
              "      <td>No</td>\n",
              "      <td>0.487747</td>\n",
              "      <td>0.603162</td>\n",
              "    </tr>\n",
              "  </tbody>\n",
              "</table>\n",
              "</div>"
            ]
          },
          "metadata": {}
        }
      ]
    },
    {
      "cell_type": "code",
      "source": "for lb,ub,y in zip(df_ci['lb'],df_ci['ub'],range(len(df_ci))):\n    plt.plot((lb,ub),(y,y),'ro-')\nplt.yticks(range(len(df_ci)),list(df_ci['home']))",
      "metadata": {
        "datalore": {
          "type": "CODE",
          "hide_input_from_viewers": false,
          "hide_output_from_viewers": false
        }
      },
      "execution_count": 108,
      "outputs": [
        {
          "output_type": "display_data",
          "data": {
            "text/plain": [
              "([<matplotlib.axis.YTick at 0x7fabf1ef79a0>,\n",
              "  <matplotlib.axis.YTick at 0x7fabf1ef7220>],\n",
              " [Text(0, 0, 'Yes'), Text(0, 1, 'No')])"
            ],
            "image/png": "[encoded data removed]"
          },
          "metadata": {
            "image/png": {}
          }
        }
      ]
    },
    {
      "cell_type": "markdown",
      "source": "England are more likely to lose in home matches, meaning that the lack of crowd cheers does not affect them negatively ",
      "metadata": {
        "datalore": {
          "type": "MD",
          "hide_input_from_viewers": false,
          "hide_output_from_viewers": false
        }
      }
    },
    {
      "cell_type": "code",
      "source": "dfusa=df[df['country']=='United States']\nconditions = [\n    (dfusa['tournament']=='Friendly'),\n    (dfusa['tournament']!='Friendly')\n    ]\nvalues=['Friendly','Official']\ndfusa['typematch'] = np.select(conditions, values)\ndfusa['typematch'].value_counts()",
      "metadata": {
        "datalore": {
          "type": "CODE",
          "hide_input_from_viewers": false,
          "hide_output_from_viewers": false
        }
      },
      "execution_count": 116,
      "outputs": [
        {
          "name": "stderr",
          "text": "<ipython-input-116-e5dabae374db>:7: SettingWithCopyWarning: \n\nA value is trying to be set on a copy of a slice from a DataFrame.\n\nTry using .loc[row_indexer,col_indexer] = value instead\n\n\n\nSee the caveats in the documentation: https://pandas.pydata.org/pandas-docs/stable/user_guide/indexing.html#returning-a-view-versus-a-copy\n\n  dfusa['typematch'] = np.select(conditions, values)\n",
          "output_type": "stream"
        },
        {
          "output_type": "display_data",
          "data": {
            "text/html": []
          },
          "metadata": {}
        }
      ]
    },
    {
      "cell_type": "code",
      "source": "x=pd.crosstab(dfusa['typematch'],dfusa['result'],margins=True)\nx",
      "metadata": {
        "datalore": {
          "type": "CODE",
          "hide_input_from_viewers": false,
          "hide_output_from_viewers": false
        }
      },
      "execution_count": 117,
      "outputs": [
        {
          "output_type": "display_data",
          "data": {
            "text/html": [
              "<div>\n",
              "<style scoped>\n",
              "    .dataframe tbody tr th:only-of-type {\n",
              "        vertical-align: middle;\n",
              "    }\n",
              "\n",
              "    .dataframe tbody tr th {\n",
              "        vertical-align: top;\n",
              "    }\n",
              "\n",
              "    .dataframe thead th {\n",
              "        text-align: right;\n",
              "    }\n",
              "</style>\n",
              "<table border=\"1\" class=\"dataframe\">\n",
              "  <thead>\n",
              "    <tr style=\"text-align: right;\">\n",
              "      <th>result</th>\n",
              "      <th>draw</th>\n",
              "      <th>lose</th>\n",
              "      <th>win</th>\n",
              "      <th>All</th>\n",
              "    </tr>\n",
              "    <tr>\n",
              "      <th>typematch</th>\n",
              "      <th></th>\n",
              "      <th></th>\n",
              "      <th></th>\n",
              "      <th></th>\n",
              "    </tr>\n",
              "  </thead>\n",
              "  <tbody>\n",
              "    <tr>\n",
              "      <th>Friendly</th>\n",
              "      <td>180</td>\n",
              "      <td>247</td>\n",
              "      <td>226</td>\n",
              "      <td>653</td>\n",
              "    </tr>\n",
              "    <tr>\n",
              "      <th>Official</th>\n",
              "      <td>114</td>\n",
              "      <td>315</td>\n",
              "      <td>155</td>\n",
              "      <td>584</td>\n",
              "    </tr>\n",
              "    <tr>\n",
              "      <th>All</th>\n",
              "      <td>294</td>\n",
              "      <td>562</td>\n",
              "      <td>381</td>\n",
              "      <td>1237</td>\n",
              "    </tr>\n",
              "  </tbody>\n",
              "</table>\n",
              "</div>"
            ]
          },
          "metadata": {}
        }
      ]
    },
    {
      "cell_type": "code",
      "source": "x=np.array(x)\nx\n   ",
      "metadata": {
        "datalore": {
          "type": "CODE",
          "hide_input_from_viewers": false,
          "hide_output_from_viewers": false
        }
      },
      "execution_count": 118,
      "outputs": [
        {
          "output_type": "display_data",
          "data": {
            "text/html": []
          },
          "metadata": {}
        }
      ]
    },
    {
      "cell_type": "code",
      "source": "import statsmodels.api as sm\nfrom statsmodels.stats.proportion import proportion_confint\nCI_usawin_friendly=proportion_confint(count=x[0,2],nobs=x[0,3],alpha=(1-.95))\nCI_usawin_friendly",
      "metadata": {
        "datalore": {
          "type": "CODE",
          "hide_input_from_viewers": false,
          "hide_output_from_viewers": false
        }
      },
      "execution_count": 119,
      "outputs": [
        {
          "output_type": "display_data",
          "data": {
            "text/plain": [
              "(0.3096072474351973, 0.38258264536725295)"
            ]
          },
          "metadata": {}
        }
      ]
    },
    {
      "cell_type": "code",
      "source": "CI_usawin_official=proportion_confint(count=x[1,2],nobs=x[1,3],alpha=(1-.95))\nCI_usawin_official",
      "metadata": {
        "datalore": {
          "type": "CODE",
          "hide_input_from_viewers": false,
          "hide_output_from_viewers": false
        }
      },
      "execution_count": 136,
      "outputs": [
        {
          "output_type": "display_data",
          "data": {
            "text/plain": [
              "(0.22959939266607973, 0.30122252514213943)"
            ]
          },
          "metadata": {}
        }
      ]
    },
    {
      "cell_type": "code",
      "source": "ci_usawin = {}\nci_usawin['Typematch'] = ['Friendly','Official']\nci_usawin['lb'] = [CI_usawin_friendly[0],CI_usawin_official[0]]\nci_usawin['ub'] = [CI_usawin_friendly[1],CI_usawin_official[1]]\ndf_ci= pd.DataFrame(ci_usawin)\ndf_ci",
      "metadata": {
        "datalore": {
          "type": "CODE",
          "hide_input_from_viewers": false,
          "hide_output_from_viewers": false
        }
      },
      "execution_count": 137,
      "outputs": [
        {
          "output_type": "display_data",
          "data": {
            "text/html": [
              "<div>\n",
              "<style scoped>\n",
              "    .dataframe tbody tr th:only-of-type {\n",
              "        vertical-align: middle;\n",
              "    }\n",
              "\n",
              "    .dataframe tbody tr th {\n",
              "        vertical-align: top;\n",
              "    }\n",
              "\n",
              "    .dataframe thead th {\n",
              "        text-align: right;\n",
              "    }\n",
              "</style>\n",
              "<table border=\"1\" class=\"dataframe\">\n",
              "  <thead>\n",
              "    <tr style=\"text-align: right;\">\n",
              "      <th></th>\n",
              "      <th>Typematch</th>\n",
              "      <th>lb</th>\n",
              "      <th>ub</th>\n",
              "    </tr>\n",
              "  </thead>\n",
              "  <tbody>\n",
              "    <tr>\n",
              "      <th>0</th>\n",
              "      <td>Friendly</td>\n",
              "      <td>0.309607</td>\n",
              "      <td>0.382583</td>\n",
              "    </tr>\n",
              "    <tr>\n",
              "      <th>1</th>\n",
              "      <td>Official</td>\n",
              "      <td>0.229599</td>\n",
              "      <td>0.301223</td>\n",
              "    </tr>\n",
              "  </tbody>\n",
              "</table>\n",
              "</div>"
            ]
          },
          "metadata": {}
        }
      ]
    },
    {
      "cell_type": "code",
      "source": "import matplotlib.pyplot as plt\nfor lb,ub,y in zip(df_ci['lb'],df_ci['ub'],range(len(df_ci))):\n    plt.plot((lb,ub),(y,y),'ro-')\nplt.yticks(range(len(df_ci)),list(df_ci['Typematch']))",
      "metadata": {
        "datalore": {
          "type": "CODE",
          "hide_input_from_viewers": false,
          "hide_output_from_viewers": false
        }
      },
      "execution_count": 138,
      "outputs": [
        {
          "output_type": "display_data",
          "data": {
            "text/plain": [
              "([<matplotlib.axis.YTick at 0x7f8f6cbf4730>,\n",
              "  <matplotlib.axis.YTick at 0x7f8f6cbf4c10>],\n",
              " [Text(0, 0, 'Friendly'), Text(0, 1, 'Official')])"
            ],
            "image/png": "[encoded data removed]"
          },
          "metadata": {
            "image/png": {}
          }
        }
      ]
    },
    {
      "cell_type": "markdown",
      "source": "The United States are more likely to win friendly matches than in official matches",
      "metadata": {
        "datalore": {
          "type": "MD",
          "hide_input_from_viewers": false,
          "hide_output_from_viewers": false
        }
      }
    },
    {
      "cell_type": "code",
      "source": "\ndfusa['home']=(dfusa['home_team']=='United States')\ndfusa['home'].value_counts()\ndfusa['home'].value_counts()",
      "metadata": {
        "datalore": {
          "type": "CODE",
          "hide_input_from_viewers": false,
          "hide_output_from_viewers": false
        }
      },
      "execution_count": 139,
      "outputs": [
        {
          "name": "stderr",
          "text": "<ipython-input-139-5d86407ecc9e>:1: SettingWithCopyWarning: \n\nA value is trying to be set on a copy of a slice from a DataFrame.\n\nTry using .loc[row_indexer,col_indexer] = value instead\n\n\n\nSee the caveats in the documentation: https://pandas.pydata.org/pandas-docs/stable/user_guide/indexing.html#returning-a-view-versus-a-copy\n\n  dfusa['home']=(dfusa['home_team']=='United States')\n",
          "output_type": "stream"
        },
        {
          "output_type": "display_data",
          "data": {
            "text/html": []
          },
          "metadata": {}
        }
      ]
    },
    {
      "cell_type": "code",
      "source": "x=pd.crosstab(dfwal['home'],dfwal['result'],margins=True)\nx",
      "metadata": {
        "datalore": {
          "type": "CODE",
          "hide_input_from_viewers": false,
          "hide_output_from_viewers": false
        }
      },
      "execution_count": 140,
      "outputs": [
        {
          "output_type": "display_data",
          "data": {
            "text/html": [
              "<div>\n",
              "<style scoped>\n",
              "    .dataframe tbody tr th:only-of-type {\n",
              "        vertical-align: middle;\n",
              "    }\n",
              "\n",
              "    .dataframe tbody tr th {\n",
              "        vertical-align: top;\n",
              "    }\n",
              "\n",
              "    .dataframe thead th {\n",
              "        text-align: right;\n",
              "    }\n",
              "</style>\n",
              "<table border=\"1\" class=\"dataframe\">\n",
              "  <thead>\n",
              "    <tr style=\"text-align: right;\">\n",
              "      <th>result</th>\n",
              "      <th>draw</th>\n",
              "      <th>lose</th>\n",
              "      <th>win</th>\n",
              "      <th>All</th>\n",
              "    </tr>\n",
              "    <tr>\n",
              "      <th>home</th>\n",
              "      <th></th>\n",
              "      <th></th>\n",
              "      <th></th>\n",
              "      <th></th>\n",
              "    </tr>\n",
              "  </thead>\n",
              "  <tbody>\n",
              "    <tr>\n",
              "      <th>False</th>\n",
              "      <td>0</td>\n",
              "      <td>14</td>\n",
              "      <td>6</td>\n",
              "      <td>20</td>\n",
              "    </tr>\n",
              "    <tr>\n",
              "      <th>True</th>\n",
              "      <td>84</td>\n",
              "      <td>123</td>\n",
              "      <td>112</td>\n",
              "      <td>319</td>\n",
              "    </tr>\n",
              "    <tr>\n",
              "      <th>All</th>\n",
              "      <td>84</td>\n",
              "      <td>137</td>\n",
              "      <td>118</td>\n",
              "      <td>339</td>\n",
              "    </tr>\n",
              "  </tbody>\n",
              "</table>\n",
              "</div>"
            ]
          },
          "metadata": {}
        }
      ]
    },
    {
      "cell_type": "code",
      "source": "x=np.array(x)\nCI_usawin_home=proportion_confint(count=x[1,2],nobs=x[1,3],alpha=(1-.95))\nCI_usawin_home",
      "metadata": {
        "datalore": {
          "type": "CODE",
          "hide_input_from_viewers": false,
          "hide_output_from_viewers": false
        }
      },
      "execution_count": 141,
      "outputs": [
        {
          "output_type": "display_data",
          "data": {
            "text/plain": [
              "(0.29871829353558793, 0.40347606383118323)"
            ]
          },
          "metadata": {}
        }
      ]
    },
    {
      "cell_type": "code",
      "source": "CI_usawin_away=proportion_confint(count=x[0,2],nobs=x[0,3],alpha=(1-.95))\nCI_usawin_away",
      "metadata": {
        "datalore": {
          "type": "CODE",
          "hide_input_from_viewers": false,
          "hide_output_from_viewers": false
        }
      },
      "execution_count": 142,
      "outputs": [
        {
          "output_type": "display_data",
          "data": {
            "text/plain": [
              "(0.09916345547364067, 0.5008365445263593)"
            ]
          },
          "metadata": {}
        }
      ]
    },
    {
      "cell_type": "code",
      "source": "ci_usawin = {}\nci_usawin['home'] = ['Yes','No']\nci_usawin['lb'] = [CI_usawin_home[0],CI_usawin_away[0]]\nci_usawin['ub'] = [CI_usawin_home[1],CI_usawin_away[1]]\ndf_ci= pd.DataFrame(ci_usawin)\ndf_ci",
      "metadata": {
        "datalore": {
          "type": "CODE",
          "hide_input_from_viewers": false,
          "hide_output_from_viewers": false
        }
      },
      "execution_count": 143,
      "outputs": [
        {
          "output_type": "display_data",
          "data": {
            "text/html": [
              "<div>\n",
              "<style scoped>\n",
              "    .dataframe tbody tr th:only-of-type {\n",
              "        vertical-align: middle;\n",
              "    }\n",
              "\n",
              "    .dataframe tbody tr th {\n",
              "        vertical-align: top;\n",
              "    }\n",
              "\n",
              "    .dataframe thead th {\n",
              "        text-align: right;\n",
              "    }\n",
              "</style>\n",
              "<table border=\"1\" class=\"dataframe\">\n",
              "  <thead>\n",
              "    <tr style=\"text-align: right;\">\n",
              "      <th></th>\n",
              "      <th>home</th>\n",
              "      <th>lb</th>\n",
              "      <th>ub</th>\n",
              "    </tr>\n",
              "  </thead>\n",
              "  <tbody>\n",
              "    <tr>\n",
              "      <th>0</th>\n",
              "      <td>Yes</td>\n",
              "      <td>0.298718</td>\n",
              "      <td>0.403476</td>\n",
              "    </tr>\n",
              "    <tr>\n",
              "      <th>1</th>\n",
              "      <td>No</td>\n",
              "      <td>0.099163</td>\n",
              "      <td>0.500837</td>\n",
              "    </tr>\n",
              "  </tbody>\n",
              "</table>\n",
              "</div>"
            ]
          },
          "metadata": {}
        }
      ]
    },
    {
      "cell_type": "code",
      "source": "for lb,ub,y in zip(df_ci['lb'],df_ci['ub'],range(len(df_ci))):\n    plt.plot((lb,ub),(y,y),'ro-')\nplt.yticks(range(len(df_ci)),list(df_ci['home']))",
      "metadata": {
        "datalore": {
          "type": "CODE",
          "hide_input_from_viewers": false,
          "hide_output_from_viewers": false
        }
      },
      "execution_count": 144,
      "outputs": [
        {
          "output_type": "display_data",
          "data": {
            "text/plain": [
              "([<matplotlib.axis.YTick at 0x7f8f679d8fa0>,\n",
              "  <matplotlib.axis.YTick at 0x7f8f9ee9c0a0>],\n",
              " [Text(0, 0, 'Yes'), Text(0, 1, 'No')])"
            ],
            "image/png": "[encoded data removed]"
          },
          "metadata": {
            "image/png": {}
          }
        }
      ]
    },
    {
      "cell_type": "markdown",
      "source": "The United States are more likely to lose in home matches, meaning that the lack of crowd cheers does not affect them negatively",
      "metadata": {
        "datalore": {
          "type": "MD",
          "hide_input_from_viewers": false,
          "hide_output_from_viewers": false
        }
      }
    },
    {
      "cell_type": "code",
      "source": "import statsmodels.api as sm\nfrom statsmodels.stats.proportion import proportion_confint\nCI_usalose_friendly=proportion_confint(count=x[0,1],nobs=x[0,3],alpha=(1-.95))\nCI_usalose_friendly\n",
      "metadata": {
        "datalore": {
          "type": "CODE",
          "hide_input_from_viewers": false,
          "hide_output_from_viewers": false
        }
      },
      "execution_count": 120,
      "outputs": [
        {
          "output_type": "display_data",
          "data": {
            "text/plain": [
              "(0.3410587617395715, 0.4154496609250533)"
            ]
          },
          "metadata": {}
        }
      ]
    },
    {
      "cell_type": "code",
      "source": "CI_usalose_official=proportion_confint(count=x[1,1],nobs=x[1,3],alpha=(1-.95))\nCI_usalose_official",
      "metadata": {
        "datalore": {
          "type": "CODE",
          "hide_input_from_viewers": false,
          "hide_output_from_viewers": false
        }
      },
      "execution_count": 121,
      "outputs": [
        {
          "output_type": "display_data",
          "data": {
            "text/plain": [
              "(0.4989576113893054, 0.5798095118983658)"
            ]
          },
          "metadata": {}
        }
      ]
    },
    {
      "cell_type": "code",
      "source": "ci_usalose = {}\nci_usalose['Typematch'] = ['Friendly','Official']\nci_usalose['lb'] = [CI_usalose_friendly[0],CI_usalose_official[0]]\nci_usalose['ub'] = [CI_usalose_friendly[1],CI_usalose_official[1]]\ndf_ci= pd.DataFrame(ci_usalose)\ndf_ci",
      "metadata": {
        "datalore": {
          "type": "CODE",
          "hide_input_from_viewers": false,
          "hide_output_from_viewers": false
        }
      },
      "execution_count": 122,
      "outputs": [
        {
          "output_type": "display_data",
          "data": {
            "text/html": [
              "<div>\n",
              "<style scoped>\n",
              "    .dataframe tbody tr th:only-of-type {\n",
              "        vertical-align: middle;\n",
              "    }\n",
              "\n",
              "    .dataframe tbody tr th {\n",
              "        vertical-align: top;\n",
              "    }\n",
              "\n",
              "    .dataframe thead th {\n",
              "        text-align: right;\n",
              "    }\n",
              "</style>\n",
              "<table border=\"1\" class=\"dataframe\">\n",
              "  <thead>\n",
              "    <tr style=\"text-align: right;\">\n",
              "      <th></th>\n",
              "      <th>Typematch</th>\n",
              "      <th>lb</th>\n",
              "      <th>ub</th>\n",
              "    </tr>\n",
              "  </thead>\n",
              "  <tbody>\n",
              "    <tr>\n",
              "      <th>0</th>\n",
              "      <td>Friendly</td>\n",
              "      <td>0.341059</td>\n",
              "      <td>0.41545</td>\n",
              "    </tr>\n",
              "    <tr>\n",
              "      <th>1</th>\n",
              "      <td>Official</td>\n",
              "      <td>0.498958</td>\n",
              "      <td>0.57981</td>\n",
              "    </tr>\n",
              "  </tbody>\n",
              "</table>\n",
              "</div>"
            ]
          },
          "metadata": {}
        }
      ]
    },
    {
      "cell_type": "code",
      "source": "import matplotlib.pyplot as plt\nfor lb,ub,y in zip(df_ci['lb'],df_ci['ub'],range(len(df_ci))):\n    plt.plot((lb,ub),(y,y),'ro-')\nplt.yticks(range(len(df_ci)),list(df_ci['Typematch']))",
      "metadata": {
        "datalore": {
          "type": "CODE",
          "hide_input_from_viewers": false,
          "hide_output_from_viewers": false
        }
      },
      "execution_count": 123,
      "outputs": [
        {
          "output_type": "display_data",
          "data": {
            "text/plain": [
              "([<matplotlib.axis.YTick at 0x7fabfea5bbb0>,\n",
              "  <matplotlib.axis.YTick at 0x7fabfea5b430>],\n",
              " [Text(0, 0, 'Friendly'), Text(0, 1, 'Official')])"
            ],
            "image/png": "[encoded data removed]"
          },
          "metadata": {
            "image/png": {}
          }
        }
      ]
    },
    {
      "cell_type": "markdown",
      "source": "United States are more likely to lose in official matches than friendly matches\n",
      "metadata": {
        "datalore": {
          "type": "MD",
          "hide_input_from_viewers": false,
          "hide_output_from_viewers": false
        }
      }
    },
    {
      "cell_type": "code",
      "source": "x=np.array(x)\nCI_usalose_home=proportion_confint(count=x[1,1],nobs=x[1,3],alpha=(1-.95))\nCI_usalose_home",
      "metadata": {
        "datalore": {
          "type": "CODE",
          "hide_input_from_viewers": false,
          "hide_output_from_viewers": false
        }
      },
      "execution_count": 124,
      "outputs": [
        {
          "output_type": "display_data",
          "data": {
            "text/plain": [
              "(0.4989576113893054, 0.5798095118983658)"
            ]
          },
          "metadata": {}
        }
      ]
    },
    {
      "cell_type": "code",
      "source": "CI_usalose_away=proportion_confint(count=x[0,1],nobs=x[0,3],alpha=(1-.95))\nCI_usalose_away",
      "metadata": {
        "datalore": {
          "type": "CODE",
          "hide_input_from_viewers": false,
          "hide_output_from_viewers": false
        }
      },
      "execution_count": 125,
      "outputs": [
        {
          "output_type": "display_data",
          "data": {
            "text/plain": [
              "(0.3410587617395715, 0.4154496609250533)"
            ]
          },
          "metadata": {}
        }
      ]
    },
    {
      "cell_type": "code",
      "source": "ci_usalose = {}\nci_usalose['home'] = ['Yes','No']\nci_usalose['lb'] = [CI_usalose_home[0],CI_usalose_away[0]]\nci_usalose['ub'] = [CI_usalose_home[1],CI_usalose_away[1]]\ndf_ci= pd.DataFrame(ci_usalose)\ndf_ci\nfor lb,ub,y in zip(df_ci['lb'],df_ci['ub'],range(len(df_ci))):\n    plt.plot((lb,ub),(y,y),'ro-')\nplt.yticks(range(len(df_ci)),list(df_ci['home']))",
      "metadata": {
        "datalore": {
          "type": "CODE",
          "hide_input_from_viewers": false,
          "hide_output_from_viewers": false
        }
      },
      "execution_count": 126,
      "outputs": [
        {
          "output_type": "display_data",
          "data": {
            "text/plain": [
              "([<matplotlib.axis.YTick at 0x7fabfe7e2400>,\n",
              "  <matplotlib.axis.YTick at 0x7fabfe726cd0>],\n",
              " [Text(0, 0, 'Yes'), Text(0, 1, 'No')])"
            ],
            "image/png": "[encoded data removed]"
          },
          "metadata": {
            "image/png": {}
          }
        }
      ]
    },
    {
      "cell_type": "markdown",
      "source": "The United States is more likely to lose in home matches, meaning that the lack of crowd cheers does not affect them negatively ",
      "metadata": {
        "datalore": {
          "type": "MD",
          "hide_input_from_viewers": false,
          "hide_output_from_viewers": false
        }
      }
    },
    {
      "cell_type": "markdown",
      "source": "Conclusion: In most cases, crowd cheers did affect how the teams performed, but the relation between both variables was not the strongest so the analysis of other variables is needed as well.",
      "metadata": {
        "datalore": {
          "type": "MD",
          "hide_input_from_viewers": false,
          "hide_output_from_viewers": false
        }
      }
    },
    {
      "cell_type": "markdown",
      "source": "Assignment Part II",
      "metadata": {
        "datalore": {
          "type": "MD",
          "hide_input_from_viewers": false,
          "hide_output_from_viewers": false
        }
      }
    },
    {
      "cell_type": "code",
      "source": "import numpy as np\nimport pandas as pd\nimport scipy\nimport scipy.stats\nfrom scipy.stats import norm,t\nimport statsmodels.api as sm\nfrom statsmodels.stats.proportion import proportion_confint\nimport matplotlib.pyplot as plt\nfrom pandas.api.types import CategoricalDtype",
      "metadata": {
        "datalore": {
          "type": "CODE",
          "hide_input_from_viewers": false,
          "hide_output_from_viewers": false
        }
      },
      "execution_count": 9,
      "outputs": []
    },
    {
      "cell_type": "code",
      "source": "cvd=pd.read_csv('covid_data.csv',encoding='latin-1')\ncvd.head()",
      "metadata": {
        "datalore": {
          "type": "CODE",
          "hide_input_from_viewers": false,
          "hide_output_from_viewers": false
        }
      },
      "execution_count": 10,
      "outputs": [
        {
          "output_type": "display_data",
          "data": {
            "text/html": [
              "<div>\n",
              "<style scoped>\n",
              "    .dataframe tbody tr th:only-of-type {\n",
              "        vertical-align: middle;\n",
              "    }\n",
              "\n",
              "    .dataframe tbody tr th {\n",
              "        vertical-align: top;\n",
              "    }\n",
              "\n",
              "    .dataframe thead th {\n",
              "        text-align: right;\n",
              "    }\n",
              "</style>\n",
              "<table border=\"1\" class=\"dataframe\">\n",
              "  <thead>\n",
              "    <tr style=\"text-align: right;\">\n",
              "      <th></th>\n",
              "      <th>date</th>\n",
              "      <th>iso3c</th>\n",
              "      <th>country</th>\n",
              "      <th>income</th>\n",
              "      <th>region</th>\n",
              "      <th>continent</th>\n",
              "      <th>dcases</th>\n",
              "      <th>ddeaths</th>\n",
              "      <th>population</th>\n",
              "      <th>weekdays</th>\n",
              "      <th>month</th>\n",
              "    </tr>\n",
              "  </thead>\n",
              "  <tbody>\n",
              "    <tr>\n",
              "      <th>0</th>\n",
              "      <td>2020-02-24</td>\n",
              "      <td>AFG</td>\n",
              "      <td>Afghanistan</td>\n",
              "      <td>Low income</td>\n",
              "      <td>South Asia</td>\n",
              "      <td>Asia</td>\n",
              "      <td>5</td>\n",
              "      <td>0</td>\n",
              "      <td>38041754</td>\n",
              "      <td>Mon</td>\n",
              "      <td>Feb</td>\n",
              "    </tr>\n",
              "    <tr>\n",
              "      <th>1</th>\n",
              "      <td>2020-02-25</td>\n",
              "      <td>AFG</td>\n",
              "      <td>Afghanistan</td>\n",
              "      <td>Low income</td>\n",
              "      <td>South Asia</td>\n",
              "      <td>Asia</td>\n",
              "      <td>0</td>\n",
              "      <td>0</td>\n",
              "      <td>38041754</td>\n",
              "      <td>Tue</td>\n",
              "      <td>Feb</td>\n",
              "    </tr>\n",
              "    <tr>\n",
              "      <th>2</th>\n",
              "      <td>2020-02-26</td>\n",
              "      <td>AFG</td>\n",
              "      <td>Afghanistan</td>\n",
              "      <td>Low income</td>\n",
              "      <td>South Asia</td>\n",
              "      <td>Asia</td>\n",
              "      <td>0</td>\n",
              "      <td>0</td>\n",
              "      <td>38041754</td>\n",
              "      <td>Wed</td>\n",
              "      <td>Feb</td>\n",
              "    </tr>\n",
              "    <tr>\n",
              "      <th>3</th>\n",
              "      <td>2020-02-27</td>\n",
              "      <td>AFG</td>\n",
              "      <td>Afghanistan</td>\n",
              "      <td>Low income</td>\n",
              "      <td>South Asia</td>\n",
              "      <td>Asia</td>\n",
              "      <td>0</td>\n",
              "      <td>0</td>\n",
              "      <td>38041754</td>\n",
              "      <td>Thu</td>\n",
              "      <td>Feb</td>\n",
              "    </tr>\n",
              "    <tr>\n",
              "      <th>4</th>\n",
              "      <td>2020-02-28</td>\n",
              "      <td>AFG</td>\n",
              "      <td>Afghanistan</td>\n",
              "      <td>Low income</td>\n",
              "      <td>South Asia</td>\n",
              "      <td>Asia</td>\n",
              "      <td>0</td>\n",
              "      <td>0</td>\n",
              "      <td>38041754</td>\n",
              "      <td>Fri</td>\n",
              "      <td>Feb</td>\n",
              "    </tr>\n",
              "  </tbody>\n",
              "</table>\n",
              "</div>"
            ]
          },
          "metadata": {}
        }
      ]
    },
    {
      "cell_type": "code",
      "source": "from pandas.api.types import CategoricalDtype\ncats=['Jan', 'Feb', 'Mar','Apr','May','Jun','Jul','Aug','Sep','Oct','Nov','Dec']\ncat_type = CategoricalDtype(categories=cats, ordered=True)\ncvd['month'] = cvd['month'].astype(cat_type)",
      "metadata": {
        "datalore": {
          "type": "CODE",
          "hide_input_from_viewers": false,
          "hide_output_from_viewers": false
        }
      },
      "execution_count": 11,
      "outputs": []
    },
    {
      "cell_type": "code",
      "source": "def get_ci_lb(x, alpha=0.05):\n    sample_s=np.std(x)\n    sample_mean=np.mean(x)\n    sample_size=len(x)\n    margin_of_error = t.ppf(1 - alpha/2,sample_size-1)*sample_s/np.sqrt(sample_size-1)\n    return sample_mean - margin_of_error\n\n\ndef get_ci_ub(x, alpha=0.05):\n    sample_s=np.std(x)\n    sample_mean=np.mean(x)\n    sample_size=len(x)\n    margin_of_error = t.ppf(1 - alpha/2,sample_size-1)*sample_s/np.sqrt(sample_size-1)\n    return sample_mean + margin_of_error\n\n\n\n\n\n\n\n\n",
      "metadata": {
        "datalore": {
          "type": "CODE",
          "hide_input_from_viewers": false,
          "hide_output_from_viewers": false
        }
      },
      "execution_count": 12,
      "outputs": []
    },
    {
      "cell_type": "markdown",
      "source": "Number of total cases",
      "metadata": {
        "datalore": {
          "type": "MD",
          "hide_input_from_viewers": false,
          "hide_output_from_viewers": false
        }
      }
    },
    {
      "cell_type": "code",
      "source": "import numpy as np\ncases=cvd.groupby(\"weekdays\").agg({\"dcases\":[np.mean, np.std, np.size, get_ci_ub, get_ci_ub]})\ncases",
      "metadata": {
        "datalore": {
          "type": "CODE",
          "hide_input_from_viewers": false,
          "hide_output_from_viewers": false
        }
      },
      "execution_count": 14,
      "outputs": [
        {
          "output_type": "display_data",
          "data": {
            "text/html": [
              "<div>\n",
              "<style scoped>\n",
              "    .dataframe tbody tr th:only-of-type {\n",
              "        vertical-align: middle;\n",
              "    }\n",
              "\n",
              "    .dataframe tbody tr th {\n",
              "        vertical-align: top;\n",
              "    }\n",
              "\n",
              "    .dataframe thead tr th {\n",
              "        text-align: left;\n",
              "    }\n",
              "\n",
              "    .dataframe thead tr:last-of-type th {\n",
              "        text-align: right;\n",
              "    }\n",
              "</style>\n",
              "<table border=\"1\" class=\"dataframe\">\n",
              "  <thead>\n",
              "    <tr>\n",
              "      <th></th>\n",
              "      <th colspan=\"5\" halign=\"left\">dcases</th>\n",
              "    </tr>\n",
              "    <tr>\n",
              "      <th></th>\n",
              "      <th>mean</th>\n",
              "      <th>std</th>\n",
              "      <th>size</th>\n",
              "      <th>get_ci_ub</th>\n",
              "      <th>get_ci_ub</th>\n",
              "    </tr>\n",
              "    <tr>\n",
              "      <th>weekdays</th>\n",
              "      <th></th>\n",
              "      <th></th>\n",
              "      <th></th>\n",
              "      <th></th>\n",
              "      <th></th>\n",
              "    </tr>\n",
              "  </thead>\n",
              "  <tbody>\n",
              "    <tr>\n",
              "      <th>Fri</th>\n",
              "      <td>2643.215039</td>\n",
              "      <td>13626.207863</td>\n",
              "      <td>17634</td>\n",
              "      <td>2844.345336</td>\n",
              "      <td>2844.345336</td>\n",
              "    </tr>\n",
              "    <tr>\n",
              "      <th>Mon</th>\n",
              "      <td>2116.600879</td>\n",
              "      <td>11700.105447</td>\n",
              "      <td>17521</td>\n",
              "      <td>2289.856936</td>\n",
              "      <td>2289.856936</td>\n",
              "    </tr>\n",
              "    <tr>\n",
              "      <th>Sat</th>\n",
              "      <td>2174.297447</td>\n",
              "      <td>10922.667935</td>\n",
              "      <td>17472</td>\n",
              "      <td>2336.267827</td>\n",
              "      <td>2336.267827</td>\n",
              "    </tr>\n",
              "    <tr>\n",
              "      <th>Sun</th>\n",
              "      <td>1852.340706</td>\n",
              "      <td>9559.968071</td>\n",
              "      <td>17496</td>\n",
              "      <td>1994.006564</td>\n",
              "      <td>1994.006564</td>\n",
              "    </tr>\n",
              "    <tr>\n",
              "      <th>Thu</th>\n",
              "      <td>2693.674338</td>\n",
              "      <td>14618.890740</td>\n",
              "      <td>17598</td>\n",
              "      <td>2909.677808</td>\n",
              "      <td>2909.677808</td>\n",
              "    </tr>\n",
              "    <tr>\n",
              "      <th>Tue</th>\n",
              "      <td>2388.510716</td>\n",
              "      <td>11756.420050</td>\n",
              "      <td>17544</td>\n",
              "      <td>2562.486516</td>\n",
              "      <td>2562.486516</td>\n",
              "    </tr>\n",
              "    <tr>\n",
              "      <th>Wed</th>\n",
              "      <td>2601.990272</td>\n",
              "      <td>12848.605924</td>\n",
              "      <td>17578</td>\n",
              "      <td>2791.944637</td>\n",
              "      <td>2791.944637</td>\n",
              "    </tr>\n",
              "  </tbody>\n",
              "</table>\n",
              "</div>"
            ]
          },
          "metadata": {}
        }
      ]
    },
    {
      "cell_type": "markdown",
      "source": "Number of total confirmed deaths",
      "metadata": {
        "datalore": {
          "type": "MD",
          "hide_input_from_viewers": false,
          "hide_output_from_viewers": false
        }
      }
    },
    {
      "cell_type": "code",
      "source": "import numpy as np\ndeaths=cvd.groupby(\"weekdays\").agg({\"ddeaths\":[np.mean, np.std, np.size, get_ci_ub, get_ci_ub]})\ndeaths",
      "metadata": {
        "datalore": {
          "type": "CODE",
          "hide_input_from_viewers": false,
          "hide_output_from_viewers": false
        }
      },
      "execution_count": 15,
      "outputs": [
        {
          "output_type": "display_data",
          "data": {
            "text/html": [
              "<div>\n",
              "<style scoped>\n",
              "    .dataframe tbody tr th:only-of-type {\n",
              "        vertical-align: middle;\n",
              "    }\n",
              "\n",
              "    .dataframe tbody tr th {\n",
              "        vertical-align: top;\n",
              "    }\n",
              "\n",
              "    .dataframe thead tr th {\n",
              "        text-align: left;\n",
              "    }\n",
              "\n",
              "    .dataframe thead tr:last-of-type th {\n",
              "        text-align: right;\n",
              "    }\n",
              "</style>\n",
              "<table border=\"1\" class=\"dataframe\">\n",
              "  <thead>\n",
              "    <tr>\n",
              "      <th></th>\n",
              "      <th colspan=\"5\" halign=\"left\">ddeaths</th>\n",
              "    </tr>\n",
              "    <tr>\n",
              "      <th></th>\n",
              "      <th>mean</th>\n",
              "      <th>std</th>\n",
              "      <th>size</th>\n",
              "      <th>get_ci_ub</th>\n",
              "      <th>get_ci_ub</th>\n",
              "    </tr>\n",
              "    <tr>\n",
              "      <th>weekdays</th>\n",
              "      <th></th>\n",
              "      <th></th>\n",
              "      <th></th>\n",
              "      <th></th>\n",
              "      <th></th>\n",
              "    </tr>\n",
              "  </thead>\n",
              "  <tbody>\n",
              "    <tr>\n",
              "      <th>Fri</th>\n",
              "      <td>47.990756</td>\n",
              "      <td>208.404740</td>\n",
              "      <td>17634</td>\n",
              "      <td>51.066925</td>\n",
              "      <td>51.066925</td>\n",
              "    </tr>\n",
              "    <tr>\n",
              "      <th>Mon</th>\n",
              "      <td>37.954968</td>\n",
              "      <td>155.752300</td>\n",
              "      <td>17521</td>\n",
              "      <td>40.261360</td>\n",
              "      <td>40.261360</td>\n",
              "    </tr>\n",
              "    <tr>\n",
              "      <th>Sat</th>\n",
              "      <td>40.258413</td>\n",
              "      <td>177.949619</td>\n",
              "      <td>17472</td>\n",
              "      <td>42.897198</td>\n",
              "      <td>42.897198</td>\n",
              "    </tr>\n",
              "    <tr>\n",
              "      <th>Sun</th>\n",
              "      <td>31.856367</td>\n",
              "      <td>139.320870</td>\n",
              "      <td>17496</td>\n",
              "      <td>33.920915</td>\n",
              "      <td>33.920915</td>\n",
              "    </tr>\n",
              "    <tr>\n",
              "      <th>Thu</th>\n",
              "      <td>49.695534</td>\n",
              "      <td>224.874945</td>\n",
              "      <td>17598</td>\n",
              "      <td>53.018205</td>\n",
              "      <td>53.018205</td>\n",
              "    </tr>\n",
              "    <tr>\n",
              "      <th>Tue</th>\n",
              "      <td>50.840002</td>\n",
              "      <td>230.863861</td>\n",
              "      <td>17544</td>\n",
              "      <td>54.256410</td>\n",
              "      <td>54.256410</td>\n",
              "    </tr>\n",
              "    <tr>\n",
              "      <th>Wed</th>\n",
              "      <td>51.346968</td>\n",
              "      <td>226.105877</td>\n",
              "      <td>17578</td>\n",
              "      <td>54.689727</td>\n",
              "      <td>54.689727</td>\n",
              "    </tr>\n",
              "  </tbody>\n",
              "</table>\n",
              "</div>"
            ]
          },
          "metadata": {}
        }
      ]
    },
    {
      "cell_type": "markdown",
      "source": "Fatality rate of covid cases by comparing the cases to the deaths",
      "metadata": {
        "datalore": {
          "type": "MD",
          "hide_input_from_viewers": false,
          "hide_output_from_viewers": false
        }
      }
    },
    {
      "cell_type": "code",
      "source": "fatrate=cvd['totcases']=cvd.groupby(['iso3c'])['dcases'].cumsum()\nfatrate",
      "metadata": {
        "datalore": {
          "type": "CODE",
          "hide_input_from_viewers": false,
          "hide_output_from_viewers": false
        }
      },
      "execution_count": 17,
      "outputs": [
        {
          "output_type": "display_data",
          "data": {
            "text/html": []
          },
          "metadata": {}
        }
      ]
    },
    {
      "cell_type": "code",
      "source": "cvd['date'][0]\n\ncvd['date'] = pd. to_datetime(cvd['date'],format='%Y-%m-%d')\n\ncvd['date'][0]\n\ncvd['year'] = pd. DatetimeIndex(cvd['date']). year\n\ncvd['year'][0]",
      "metadata": {
        "datalore": {
          "type": "CODE",
          "hide_input_from_viewers": false,
          "hide_output_from_viewers": false
        }
      },
      "execution_count": 40,
      "outputs": [
        {
          "output_type": "display_data",
          "data": {
            "text/plain": [
              "2020"
            ]
          },
          "metadata": {}
        }
      ]
    },
    {
      "cell_type": "markdown",
      "source": "Comparison of the cases in 2020 and 2021 in terms of:",
      "metadata": {
        "datalore": {
          "type": "MD",
          "hide_input_from_viewers": false,
          "hide_output_from_viewers": false
        }
      }
    },
    {
      "cell_type": "code",
      "source": "ratio=cvd['dcases']/cvd['ddeaths']\n\ncvd['ratio']=ratio\n\ncvd = cvd.replace([np.inf, -np.inf], np.nan).dropna(axis=0)\n\ncvd",
      "metadata": {
        "datalore": {
          "type": "CODE",
          "hide_input_from_viewers": false,
          "hide_output_from_viewers": false
        }
      },
      "execution_count": 41,
      "outputs": [
        {
          "output_type": "display_data",
          "data": {
            "text/html": [
              "<div>\n",
              "<style scoped>\n",
              "    .dataframe tbody tr th:only-of-type {\n",
              "        vertical-align: middle;\n",
              "    }\n",
              "\n",
              "    .dataframe tbody tr th {\n",
              "        vertical-align: top;\n",
              "    }\n",
              "\n",
              "    .dataframe thead th {\n",
              "        text-align: right;\n",
              "    }\n",
              "</style>\n",
              "<table border=\"1\" class=\"dataframe\">\n",
              "  <thead>\n",
              "    <tr style=\"text-align: right;\">\n",
              "      <th></th>\n",
              "      <th>date</th>\n",
              "      <th>iso3c</th>\n",
              "      <th>country</th>\n",
              "      <th>income</th>\n",
              "      <th>region</th>\n",
              "      <th>continent</th>\n",
              "      <th>dcases</th>\n",
              "      <th>ddeaths</th>\n",
              "      <th>population</th>\n",
              "      <th>weekdays</th>\n",
              "      <th>month</th>\n",
              "      <th>year</th>\n",
              "      <th>ratio</th>\n",
              "    </tr>\n",
              "  </thead>\n",
              "  <tbody>\n",
              "    <tr>\n",
              "      <th>28</th>\n",
              "      <td>2020-03-23</td>\n",
              "      <td>AFG</td>\n",
              "      <td>Afghanistan</td>\n",
              "      <td>Low income</td>\n",
              "      <td>South Asia</td>\n",
              "      <td>Asia</td>\n",
              "      <td>6</td>\n",
              "      <td>1</td>\n",
              "      <td>38041754</td>\n",
              "      <td>Mon</td>\n",
              "      <td>Mar</td>\n",
              "      <td>2020</td>\n",
              "      <td>6.000000</td>\n",
              "    </tr>\n",
              "    <tr>\n",
              "      <th>31</th>\n",
              "      <td>2020-03-26</td>\n",
              "      <td>AFG</td>\n",
              "      <td>Afghanistan</td>\n",
              "      <td>Low income</td>\n",
              "      <td>South Asia</td>\n",
              "      <td>Asia</td>\n",
              "      <td>6</td>\n",
              "      <td>1</td>\n",
              "      <td>38041754</td>\n",
              "      <td>Thu</td>\n",
              "      <td>Mar</td>\n",
              "      <td>2020</td>\n",
              "      <td>6.000000</td>\n",
              "    </tr>\n",
              "    <tr>\n",
              "      <th>34</th>\n",
              "      <td>2020-03-29</td>\n",
              "      <td>AFG</td>\n",
              "      <td>Afghanistan</td>\n",
              "      <td>Low income</td>\n",
              "      <td>South Asia</td>\n",
              "      <td>Asia</td>\n",
              "      <td>8</td>\n",
              "      <td>2</td>\n",
              "      <td>38041754</td>\n",
              "      <td>Sun</td>\n",
              "      <td>Mar</td>\n",
              "      <td>2020</td>\n",
              "      <td>4.000000</td>\n",
              "    </tr>\n",
              "    <tr>\n",
              "      <th>39</th>\n",
              "      <td>2020-04-03</td>\n",
              "      <td>AFG</td>\n",
              "      <td>Afghanistan</td>\n",
              "      <td>Low income</td>\n",
              "      <td>South Asia</td>\n",
              "      <td>Asia</td>\n",
              "      <td>34</td>\n",
              "      <td>1</td>\n",
              "      <td>38041754</td>\n",
              "      <td>Fri</td>\n",
              "      <td>Apr</td>\n",
              "      <td>2020</td>\n",
              "      <td>34.000000</td>\n",
              "    </tr>\n",
              "    <tr>\n",
              "      <th>41</th>\n",
              "      <td>2020-04-05</td>\n",
              "      <td>AFG</td>\n",
              "      <td>Afghanistan</td>\n",
              "      <td>Low income</td>\n",
              "      <td>South Asia</td>\n",
              "      <td>Asia</td>\n",
              "      <td>29</td>\n",
              "      <td>2</td>\n",
              "      <td>38041754</td>\n",
              "      <td>Sun</td>\n",
              "      <td>Apr</td>\n",
              "      <td>2020</td>\n",
              "      <td>14.500000</td>\n",
              "    </tr>\n",
              "    <tr>\n",
              "      <th>...</th>\n",
              "      <td>...</td>\n",
              "      <td>...</td>\n",
              "      <td>...</td>\n",
              "      <td>...</td>\n",
              "      <td>...</td>\n",
              "      <td>...</td>\n",
              "      <td>...</td>\n",
              "      <td>...</td>\n",
              "      <td>...</td>\n",
              "      <td>...</td>\n",
              "      <td>...</td>\n",
              "      <td>...</td>\n",
              "      <td>...</td>\n",
              "    </tr>\n",
              "    <tr>\n",
              "      <th>122837</th>\n",
              "      <td>2021-12-26</td>\n",
              "      <td>ZWE</td>\n",
              "      <td>Zimbabwe</td>\n",
              "      <td>Lower middle income</td>\n",
              "      <td>Sub-Saharan Africa</td>\n",
              "      <td>Africa</td>\n",
              "      <td>605</td>\n",
              "      <td>6</td>\n",
              "      <td>14645468</td>\n",
              "      <td>Sun</td>\n",
              "      <td>Dec</td>\n",
              "      <td>2021</td>\n",
              "      <td>100.833333</td>\n",
              "    </tr>\n",
              "    <tr>\n",
              "      <th>122838</th>\n",
              "      <td>2021-12-27</td>\n",
              "      <td>ZWE</td>\n",
              "      <td>Zimbabwe</td>\n",
              "      <td>Lower middle income</td>\n",
              "      <td>Sub-Saharan Africa</td>\n",
              "      <td>Africa</td>\n",
              "      <td>1098</td>\n",
              "      <td>17</td>\n",
              "      <td>14645468</td>\n",
              "      <td>Mon</td>\n",
              "      <td>Dec</td>\n",
              "      <td>2021</td>\n",
              "      <td>64.588235</td>\n",
              "    </tr>\n",
              "    <tr>\n",
              "      <th>122839</th>\n",
              "      <td>2021-12-28</td>\n",
              "      <td>ZWE</td>\n",
              "      <td>Zimbabwe</td>\n",
              "      <td>Lower middle income</td>\n",
              "      <td>Sub-Saharan Africa</td>\n",
              "      <td>Africa</td>\n",
              "      <td>2099</td>\n",
              "      <td>32</td>\n",
              "      <td>14645468</td>\n",
              "      <td>Tue</td>\n",
              "      <td>Dec</td>\n",
              "      <td>2021</td>\n",
              "      <td>65.593750</td>\n",
              "    </tr>\n",
              "    <tr>\n",
              "      <th>122841</th>\n",
              "      <td>2021-12-30</td>\n",
              "      <td>ZWE</td>\n",
              "      <td>Zimbabwe</td>\n",
              "      <td>Lower middle income</td>\n",
              "      <td>Sub-Saharan Africa</td>\n",
              "      <td>Africa</td>\n",
              "      <td>4180</td>\n",
              "      <td>57</td>\n",
              "      <td>14645468</td>\n",
              "      <td>Thu</td>\n",
              "      <td>Dec</td>\n",
              "      <td>2021</td>\n",
              "      <td>73.333333</td>\n",
              "    </tr>\n",
              "    <tr>\n",
              "      <th>122842</th>\n",
              "      <td>2021-12-31</td>\n",
              "      <td>ZWE</td>\n",
              "      <td>Zimbabwe</td>\n",
              "      <td>Lower middle income</td>\n",
              "      <td>Sub-Saharan Africa</td>\n",
              "      <td>Africa</td>\n",
              "      <td>1530</td>\n",
              "      <td>7</td>\n",
              "      <td>14645468</td>\n",
              "      <td>Fri</td>\n",
              "      <td>Dec</td>\n",
              "      <td>2021</td>\n",
              "      <td>218.571429</td>\n",
              "    </tr>\n",
              "  </tbody>\n",
              "</table>\n",
              "<p>67773 rows × 13 columns</p>\n",
              "</div>"
            ]
          },
          "metadata": {}
        }
      ]
    },
    {
      "cell_type": "markdown",
      "source": "Continent",
      "metadata": {
        "datalore": {
          "type": "MD",
          "hide_input_from_viewers": false,
          "hide_output_from_viewers": false
        }
      }
    },
    {
      "cell_type": "code",
      "source": "conty=cvd.groupby(['continent','year']).agg({\"ratio\": [np.mean, np.std, np.size,get_ci_lb,get_ci_ub]})\n\nconty=conty.reset_index()\n\nconty= pd.DataFrame(conty)\n\n",
      "metadata": {
        "datalore": {
          "type": "CODE",
          "hide_input_from_viewers": false,
          "hide_output_from_viewers": false
        }
      },
      "execution_count": 50,
      "outputs": []
    },
    {
      "cell_type": "code",
      "source": "\nconty20=conty[(conty['year']==2020)]\nconty21=conty[(conty['year']==2021)]\n",
      "metadata": {
        "datalore": {
          "type": "CODE",
          "hide_input_from_viewers": false,
          "hide_output_from_viewers": false
        }
      },
      "execution_count": 11,
      "outputs": []
    },
    {
      "cell_type": "code",
      "source": "conty20.columns\nconty20.columns=['continent','year','mean','std','size','get_ci_lb','get_ci_ub']\nconty21.columns\nconty21.columns=['continent','year','mean','std','size','get_ci_lb','get_ci_ub']",
      "metadata": {
        "datalore": {
          "type": "CODE",
          "hide_input_from_viewers": false,
          "hide_output_from_viewers": false
        }
      },
      "execution_count": 12,
      "outputs": []
    },
    {
      "cell_type": "code",
      "source": "import matplotlib.pyplot as plt\nfor lb,ub,y in zip(conty20['get_ci_lb'],conty20['get_ci_ub'],range(len(conty))):\n    plt.plot((lb,ub),(y,y),'ro-')\nplt.yticks(range(len(conty20)),list(conty20['continent']))\nplt.xlabel(\"Ratio\")\nplt.ylabel(\"Continent\")\nplt.title(\"Continents in 2020\")",
      "metadata": {
        "datalore": {
          "type": "CODE",
          "hide_input_from_viewers": false,
          "hide_output_from_viewers": false
        }
      },
      "execution_count": 14,
      "outputs": [
        {
          "output_type": "display_data",
          "data": {
            "text/plain": [
              "Text(0.5, 1.0, 'Continents in 2020')"
            ],
            "image/png": "[encoded data removed]"
          },
          "metadata": {
            "image/png": {}
          }
        }
      ]
    },
    {
      "cell_type": "code",
      "source": "import matplotlib.pyplot as plt\nfor lb,ub,y in zip(conty21['get_ci_lb'],conty21['get_ci_ub'],range(len(conty))):\n    plt.plot((lb,ub),(y,y),'ro-')\nplt.yticks(range(len(conty21)),list(conty21['continent']))\nplt.xlabel(\"Ratio\")\nplt.ylabel(\"Continent\")\nplt.title(\"Continents in 2021\")",
      "metadata": {
        "datalore": {
          "type": "CODE",
          "hide_input_from_viewers": false,
          "hide_output_from_viewers": false
        }
      },
      "execution_count": 15,
      "outputs": [
        {
          "output_type": "display_data",
          "data": {
            "text/plain": [
              "Text(0.5, 1.0, 'Continents in 2021')"
            ],
            "image/png": "[encoded data removed]"
          },
          "metadata": {
            "image/png": {}
          }
        }
      ]
    },
    {
      "cell_type": "markdown",
      "source": "Region",
      "metadata": {
        "datalore": {
          "type": "MD",
          "hide_input_from_viewers": false,
          "hide_output_from_viewers": false
        }
      }
    },
    {
      "cell_type": "code",
      "source": "regy=cvd.groupby(['region','year']).agg({\"ratio\": [np.mean, np.std, np.size,get_ci_lb,get_ci_ub]})\n\nregy=regy.reset_index()\n\nregy= pd.DataFrame(regy)",
      "metadata": {
        "datalore": {
          "type": "CODE",
          "hide_input_from_viewers": false,
          "hide_output_from_viewers": false
        }
      },
      "execution_count": null,
      "outputs": []
    },
    {
      "cell_type": "code",
      "source": "regy20=regy[(regy['year']==2020)]\nregy21=regy[(regy['year']==2021)]",
      "metadata": {
        "datalore": {
          "type": "CODE",
          "hide_input_from_viewers": false,
          "hide_output_from_viewers": false
        }
      },
      "execution_count": 16,
      "outputs": []
    },
    {
      "cell_type": "code",
      "source": "\nregy20.columns\nregy20.columns=['continent','year','mean','std','size','get_ci_lb','get_ci_ub']\nregy21.columns\nregy21.columns=['continent','year','mean','std','size','get_ci_lb','get_ci_ub']",
      "metadata": {
        "datalore": {
          "type": "CODE",
          "hide_input_from_viewers": false,
          "hide_output_from_viewers": false
        }
      },
      "execution_count": 44,
      "outputs": []
    },
    {
      "cell_type": "code",
      "source": "import matplotlib.pyplot as plt\nfor lb,ub,y in zip(regy20['get_ci_lb'],regy20['get_ci_ub'],range(len(regy20))):\n    plt.plot((lb,ub),(y,y),'ro-')\nplt.yticks(range(len(regy20)),list(regy20['continent']))\nplt.xlabel(\"Ratio\")\nplt.ylabel(\"Region\")\nplt.title(\"Regions in 2020\")",
      "metadata": {
        "datalore": {
          "type": "CODE",
          "hide_input_from_viewers": false,
          "hide_output_from_viewers": false
        }
      },
      "execution_count": 18,
      "outputs": [
        {
          "output_type": "display_data",
          "data": {
            "text/plain": [
              "Text(0.5, 1.0, 'Regions in 2020')"
            ],
            "image/png": "[encoded data removed]"
          },
          "metadata": {
            "image/png": {}
          }
        }
      ]
    },
    {
      "cell_type": "code",
      "source": "import matplotlib.pyplot as plt\nfor lb,ub,y in zip(regy21['get_ci_lb'],regy21['get_ci_ub'],range(len(regy21))):\n    plt.plot((lb,ub),(y,y),'ro-')\nplt.yticks(range(len(regy21)),list(regy21['continent']))\nplt.xlabel(\"Ratio\")\nplt.ylabel(\"Region\")\nplt.title(\"Regions in 2021\")",
      "metadata": {
        "datalore": {
          "type": "CODE",
          "hide_input_from_viewers": false,
          "hide_output_from_viewers": false
        }
      },
      "execution_count": 21,
      "outputs": [
        {
          "output_type": "display_data",
          "data": {
            "text/plain": [
              "Text(0.5, 1.0, 'Regions in 2021')"
            ],
            "image/png": "[encoded data removed]"
          },
          "metadata": {
            "image/png": {}
          }
        }
      ]
    },
    {
      "cell_type": "code",
      "source": "Income",
      "metadata": {
        "datalore": {
          "type": "CODE",
          "hide_input_from_viewers": false,
          "hide_output_from_viewers": false
        }
      },
      "execution_count": null,
      "outputs": []
    },
    {
      "cell_type": "code",
      "source": "\n\nincy=cvd.groupby(['income','year']).agg({\"ratio\": [np.mean, np.std, np.size,get_ci_lb,get_ci_ub]})\n\nincy=incy.reset_index()\n\nincy= pd.DataFrame(incy)",
      "metadata": {
        "datalore": {
          "type": "CODE",
          "hide_input_from_viewers": false,
          "hide_output_from_viewers": false
        }
      },
      "execution_count": null,
      "outputs": []
    },
    {
      "cell_type": "code",
      "source": "incy20=incy[(incy['year']==2020)]\nincy21=incy[(incy['year']==2021)]",
      "metadata": {
        "datalore": {
          "type": "CODE",
          "hide_input_from_viewers": false,
          "hide_output_from_viewers": false
        }
      },
      "execution_count": 23,
      "outputs": []
    },
    {
      "cell_type": "code",
      "source": "incy20.columns\nincy20.columns=['continent','year','mean','std','size','get_ci_lb','get_ci_ub']\nincy21.columns\nincy21.columns=['continent','year','mean','std','size','get_ci_lb','get_ci_ub']",
      "metadata": {
        "datalore": {
          "type": "CODE",
          "hide_input_from_viewers": false,
          "hide_output_from_viewers": false
        }
      },
      "execution_count": 45,
      "outputs": []
    },
    {
      "cell_type": "code",
      "source": "import matplotlib.pyplot as plt\nfor lb,ub,y in zip(incy20['get_ci_lb'],incy20['get_ci_ub'],range(len(incy20))):\n    plt.plot((lb,ub),(y,y),'ro-')\nplt.yticks(range(len(incy20)),list(incy20['continent']))\nplt.xlabel(\"Ratio\")\nplt.ylabel(\"Income\")\nplt.title(\"Income in 2020\")",
      "metadata": {
        "datalore": {
          "type": "CODE",
          "hide_input_from_viewers": false,
          "hide_output_from_viewers": false
        }
      },
      "execution_count": 24,
      "outputs": [
        {
          "output_type": "display_data",
          "data": {
            "text/plain": [
              "Text(0.5, 1.0, 'Income in 2020')"
            ],
            "image/png": "[encoded data removed]"
          },
          "metadata": {
            "image/png": {}
          }
        }
      ]
    },
    {
      "cell_type": "code",
      "source": "import matplotlib.pyplot as plt\nfor lb,ub,y in zip(incy21['get_ci_lb'],incy21['get_ci_ub'],range(len(incy21))):\n    plt.plot((lb,ub),(y,y),'ro-')\nplt.yticks(range(len(incy21)),list(incy21['continent']))\nplt.xlabel(\"Ratio\")\nplt.ylabel(\"Income\")\nplt.title(\"Income in 2021\")",
      "metadata": {
        "datalore": {
          "type": "CODE",
          "hide_input_from_viewers": false,
          "hide_output_from_viewers": false
        }
      },
      "execution_count": 25,
      "outputs": [
        {
          "output_type": "display_data",
          "data": {
            "text/plain": [
              "Text(0.5, 1.0, 'Income in 2021')"
            ],
            "image/png": "[encoded data removed]"
          },
          "metadata": {
            "image/png": {}
          }
        }
      ]
    },
    {
      "cell_type": "code",
      "source": "couny20=popy[(couny['year']==2020)]\ncouny21=popy[(couny['year']==2021)]",
      "metadata": {
        "datalore": {
          "type": "CODE",
          "hide_input_from_viewers": false,
          "hide_output_from_viewers": false
        }
      },
      "execution_count": 51,
      "outputs": []
    },
    {
      "cell_type": "code",
      "source": "couny20.columns\ncouny20.columns=['country','year','mean','std','size','get_ci_lb','get_ci_ub']\ncouny21.columns\ncouny21.columns=['country','year','mean','std','size','get_ci_lb','get_ci_ub']",
      "metadata": {
        "datalore": {
          "type": "CODE",
          "hide_input_from_viewers": false,
          "hide_output_from_viewers": false
        }
      },
      "execution_count": 52,
      "outputs": []
    },
    {
      "cell_type": "markdown",
      "source": "Conclusion: I used this dataset to show the fatality rate of Covid in both years, and the difference of death in both 2020 and 2021 in reference to income, regions, and continents.",
      "metadata": {
        "datalore": {
          "type": "MD",
          "hide_input_from_viewers": false,
          "hide_output_from_viewers": false
        }
      }
    },
    {
      "cell_type": "code",
      "source": "import nbconvert",
      "metadata": {
        "datalore": {
          "type": "CODE",
          "hide_input_from_viewers": false,
          "hide_output_from_viewers": false
        }
      },
      "execution_count": 1,
      "outputs": []
    }
  ]
}